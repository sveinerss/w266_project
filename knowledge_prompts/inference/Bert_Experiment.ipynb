{
  "cells": [
    {
      "cell_type": "markdown",
      "source": [
        "# Inference incorporating knowledge with Bert"
      ],
      "metadata": {
        "id": "kKd5FhbyWS1Q"
      }
    },
    {
      "cell_type": "markdown",
      "source": [
        "## 1. Import libraries"
      ],
      "metadata": {
        "id": "dPgAwWqZTuCg"
      }
    },
    {
      "cell_type": "code",
      "execution_count": 1,
      "metadata": {
        "id": "4JzX4DjHduRb"
      },
      "outputs": [],
      "source": [
        "import json\n",
        "import torch\n",
        "import transformers\n",
        "import matplotlib.pyplot as plt\n",
        "import pandas as pd\n",
        "from tqdm import tqdm\n",
        "import os\n",
        "import random\n",
        "import numpy as np"
      ]
    },
    {
      "cell_type": "code",
      "source": [
        "from transformers import BertTokenizer, BertForSequenceClassification\n",
        "from torch.nn.functional import softmax"
      ],
      "metadata": {
        "id": "UfL_28Aa3f3z"
      },
      "execution_count": 2,
      "outputs": []
    },
    {
      "cell_type": "code",
      "source": [
        "from scipy import stats"
      ],
      "metadata": {
        "id": "jgNNXfFE8JUy"
      },
      "execution_count": 3,
      "outputs": []
    },
    {
      "cell_type": "markdown",
      "source": [
        "## 2. Model Initialization"
      ],
      "metadata": {
        "id": "jnTBI6K9WKYY"
      }
    },
    {
      "cell_type": "markdown",
      "source": [
        "For replicability, import the model's random weights from here [driver folder](https://drive.google.com/drive/folders/1tfITHi0PKAeDs_eDW8fqxUsl6YjhZIju?usp=sharing) and copy them to a folder in your own Drive."
      ],
      "metadata": {
        "id": "7ZUpWWwNU3LS"
      }
    },
    {
      "cell_type": "code",
      "source": [
        "from google.colab import drive\n",
        "drive.mount('/content/drive')"
      ],
      "metadata": {
        "colab": {
          "base_uri": "https://localhost:8080/"
        },
        "id": "jMZAftI6L0TR",
        "outputId": "4438e368-2104-41b3-888b-9e99aacd6989"
      },
      "execution_count": 4,
      "outputs": [
        {
          "output_type": "stream",
          "name": "stdout",
          "text": [
            "Mounted at /content/drive\n"
          ]
        }
      ]
    },
    {
      "cell_type": "code",
      "source": [
        "model_path = '/content/drive/My Drive/266/project/model_checkpoints' # replace with the path where you stored the imported weights\n",
        "\n",
        "# Create the directory if it doesn't exist\n",
        "if not os.path.exists(model_path):\n",
        "  os.makedirs(model_path, exist_ok=True)\n",
        "\n",
        "# If there is a model checkpoint, load it.\n",
        "if not os.listdir(model_path):\n",
        "  print(\"Creating Checkpoint...\")\n",
        "  tokenizer = BertTokenizer.from_pretrained('bert-base-uncased')\n",
        "  model = BertForSequenceClassification.from_pretrained('bert-base-uncased', num_labels=1).cuda()\n",
        "  model.save_pretrained(model_path)\n",
        "  tokenizer.save_pretrained(model_path)\n",
        "else:\n",
        "  print(\"Reading from Checkpoint...\")\n",
        "  tokenizer = BertTokenizer.from_pretrained(model_path)\n",
        "  model = BertForSequenceClassification.from_pretrained(model_path).cuda()"
      ],
      "metadata": {
        "colab": {
          "base_uri": "https://localhost:8080/"
        },
        "id": "_2mbnDGoL-xQ",
        "outputId": "66409648-ef84-443f-b4bc-b6f55033a168"
      },
      "execution_count": 5,
      "outputs": [
        {
          "output_type": "stream",
          "name": "stdout",
          "text": [
            "Reading from Checkpoint...\n"
          ]
        }
      ]
    },
    {
      "cell_type": "code",
      "source": [
        "model.eval()  # Ensure the model is in evaluation mode"
      ],
      "metadata": {
        "colab": {
          "base_uri": "https://localhost:8080/"
        },
        "id": "ph6pWwz-4jEv",
        "outputId": "686c5f0b-2d1a-4b07-ca70-68f4a4c78480"
      },
      "execution_count": 6,
      "outputs": [
        {
          "output_type": "execute_result",
          "data": {
            "text/plain": [
              "BertForSequenceClassification(\n",
              "  (bert): BertModel(\n",
              "    (embeddings): BertEmbeddings(\n",
              "      (word_embeddings): Embedding(30522, 768, padding_idx=0)\n",
              "      (position_embeddings): Embedding(512, 768)\n",
              "      (token_type_embeddings): Embedding(2, 768)\n",
              "      (LayerNorm): LayerNorm((768,), eps=1e-12, elementwise_affine=True)\n",
              "      (dropout): Dropout(p=0.1, inplace=False)\n",
              "    )\n",
              "    (encoder): BertEncoder(\n",
              "      (layer): ModuleList(\n",
              "        (0-11): 12 x BertLayer(\n",
              "          (attention): BertAttention(\n",
              "            (self): BertSelfAttention(\n",
              "              (query): Linear(in_features=768, out_features=768, bias=True)\n",
              "              (key): Linear(in_features=768, out_features=768, bias=True)\n",
              "              (value): Linear(in_features=768, out_features=768, bias=True)\n",
              "              (dropout): Dropout(p=0.1, inplace=False)\n",
              "            )\n",
              "            (output): BertSelfOutput(\n",
              "              (dense): Linear(in_features=768, out_features=768, bias=True)\n",
              "              (LayerNorm): LayerNorm((768,), eps=1e-12, elementwise_affine=True)\n",
              "              (dropout): Dropout(p=0.1, inplace=False)\n",
              "            )\n",
              "          )\n",
              "          (intermediate): BertIntermediate(\n",
              "            (dense): Linear(in_features=768, out_features=3072, bias=True)\n",
              "            (intermediate_act_fn): GELUActivation()\n",
              "          )\n",
              "          (output): BertOutput(\n",
              "            (dense): Linear(in_features=3072, out_features=768, bias=True)\n",
              "            (LayerNorm): LayerNorm((768,), eps=1e-12, elementwise_affine=True)\n",
              "            (dropout): Dropout(p=0.1, inplace=False)\n",
              "          )\n",
              "        )\n",
              "      )\n",
              "    )\n",
              "    (pooler): BertPooler(\n",
              "      (dense): Linear(in_features=768, out_features=768, bias=True)\n",
              "      (activation): Tanh()\n",
              "    )\n",
              "  )\n",
              "  (dropout): Dropout(p=0.1, inplace=False)\n",
              "  (classifier): Linear(in_features=768, out_features=1, bias=True)\n",
              ")"
            ]
          },
          "metadata": {},
          "execution_count": 6
        }
      ]
    },
    {
      "cell_type": "markdown",
      "source": [
        "## 3. Load dataset\n",
        "\n",
        "We'll be using the validation set of the [ROC Cloze Dataset](https://paperswithcode.com/dataset/rocstories) as well as the dataset with embedded knowledge produced when we prompted the gpt."
      ],
      "metadata": {
        "id": "lpOl5P-oWwCW"
      }
    },
    {
      "cell_type": "code",
      "source": [
        "val_path = \"/content/drive/My Drive/266/project/validation_set/\"\n",
        "\n",
        "with open(val_path+\"val_set.json\") as f:\n",
        "    ds = json.load(f)\n",
        "\n",
        "with open(val_path+\"val_set_knowledge.json\") as f:\n",
        "    ds_know = json.load(f)"
      ],
      "metadata": {
        "id": "EAtOtXQTXFiw"
      },
      "execution_count": 7,
      "outputs": []
    },
    {
      "cell_type": "code",
      "source": [
        "ds[0]"
      ],
      "metadata": {
        "colab": {
          "base_uri": "https://localhost:8080/"
        },
        "id": "mZaH7JcFY4Nv",
        "outputId": "83125806-00b1-4172-b9f4-cbd28002db51"
      },
      "execution_count": 8,
      "outputs": [
        {
          "output_type": "execute_result",
          "data": {
            "text/plain": [
              "{'InputStoryid': '138d5bfb-05cc-41e3-bf2c-fa85ebad14e2',\n",
              " 'cands': ['He is happy now.', 'He joined a gang.'],\n",
              " 'answer': 'He is happy now.',\n",
              " 'query': \"Rick grew up in a troubled household. He never found good support in family, and turned to gangs. It wasn't long before Rick got shot in a robbery. The incident caused him to turn a new leaf.\"}"
            ]
          },
          "metadata": {},
          "execution_count": 8
        }
      ]
    },
    {
      "cell_type": "code",
      "source": [
        "ds_know[0]"
      ],
      "metadata": {
        "colab": {
          "base_uri": "https://localhost:8080/"
        },
        "id": "c05ltQjNY6a8",
        "outputId": "0e4dcd9d-f337-4b1f-d650-ca58fe2d5b16"
      },
      "execution_count": 9,
      "outputs": [
        {
          "output_type": "execute_result",
          "data": {
            "text/plain": [
              "{'InputStoryid': '138d5bfb-05cc-41e3-bf2c-fa85ebad14e2',\n",
              " 'cands': ['He is happy now.', 'He joined a gang.'],\n",
              " 'answer': 'He is happy now.',\n",
              " 'query': \"Rick grew up in a troubled household. He never found good support in family, and turned to gangs. It wasn't long before Rick got shot in a robbery. The incident caused him to turn a new leaf.\",\n",
              " 'knowledge': \"Growing up in a challenging environment can impact a person's choices and lead them down negative paths such as joining gangs. Traumatic experiences like getting shot can sometimes serve as a turning point for individuals, motivating them to make positive changes in their lives.\"}"
            ]
          },
          "metadata": {},
          "execution_count": 9
        }
      ]
    },
    {
      "cell_type": "markdown",
      "metadata": {
        "id": "-appVfuwduRl"
      },
      "source": [
        "## 4. Inference with & without knowledge"
      ]
    },
    {
      "cell_type": "code",
      "source": [
        "def score_with_bert(tokenizer, model, story, knowledge, candidates, token_count=False, max_length=512):\n",
        "  '''\n",
        "  Calculate the probabilities for each candidate outcome given a sample story.\n",
        "  Args:\n",
        "    tokenizer: BertTokenizer\n",
        "    model: BertModel\n",
        "    story (str): Sample story\n",
        "    knowledge (str): Sample embedded knowledge\n",
        "    candidates (list): Possible outcomes of sample\n",
        "    token_count (bool): Print the number of tokens in input if activated\n",
        "    max_length (int): Length of the tokenized text\n",
        "  Returns:\n",
        "    probs (list floats): Softmax probabilities over the candidates\n",
        "\n",
        "  '''\n",
        "  scores = []\n",
        "  for cand in candidates:\n",
        "\n",
        "      # Format input text as: [CLS] context [SEP] candidate [SEP]\n",
        "      story = f\"{story} {knowledge}\" if knowledge is not None else story\n",
        "      inputs = tokenizer.encode_plus(story, cand, max_length=max_length, truncation=True, return_tensors='pt', add_special_tokens=True).to(model.device)\n",
        "\n",
        "      if token_count:\n",
        "        # Print the number of tokens for debugging purposes\n",
        "        num_tokens = inputs[\"input_ids\"].size(1)\n",
        "        print(f\"Number of tokens for {cand} : {num_tokens}\")\n",
        "        if num_tokens > max_length:\n",
        "          print(\"Max length exceeded\")\n",
        "\n",
        "      # Forward pass, get logits\n",
        "      with torch.no_grad():\n",
        "          outputs = model(**inputs)\n",
        "          logits = outputs.logits.squeeze().item()\n",
        "\n",
        "      # Store the logits as scores\n",
        "      scores.append(logits)\n",
        "\n",
        "  # Convert scores to probabilities\n",
        "  probs = softmax(torch.tensor(scores), dim=0)\n",
        "  return probs\n",
        "\n",
        "def predict_with_bert(story:str, candidates:list, knowledge:str, token_count=False, token_max_len=512):\n",
        "  '''\n",
        "  Returns the model's prediction on the given sample story.\n",
        "  '''\n",
        "  probs = score_with_bert(tokenizer, model, story, knowledge, candidates, token_count=token_count, max_length=token_max_len)\n",
        "  prediction = candidates[probs.argmax().item()]\n",
        "  return prediction, probs"
      ],
      "metadata": {
        "id": "bAsjuw3dCNC-"
      },
      "execution_count": 10,
      "outputs": []
    },
    {
      "cell_type": "code",
      "source": [
        "def process_dataset(data):\n",
        "  '''\n",
        "  Run the model on given dataset.\n",
        "  Args:\n",
        "    data: dataset read from json\n",
        "  Returns:\n",
        "    probs_df (Pandas DataFrame): dataframe with probility for the correct and incorrect outcome\n",
        "    acc (float): performance metric\n",
        "\n",
        "  '''\n",
        "  # prepare counters for metric calculation and data structures to save results\n",
        "  pbar = tqdm(data)\n",
        "  num, den = 0, 0\n",
        "  correct_probs, incorrect_probs = [], []\n",
        "  probs_df = pd.DataFrame(columns=[\"ID\", \"correct_prob\", \"incorrect_prob\"])\n",
        "\n",
        "  for item in pbar:\n",
        "\n",
        "    # get item information\n",
        "    story, candidates = item[\"query\"], item[\"cands\"]\n",
        "    knowledge = item[\"knowledge\"] if \"knowledge\" in item.keys() else None\n",
        "\n",
        "    # predict\n",
        "    item_prediction, item_probs = predict_with_bert(story, candidates, knowledge)\n",
        "\n",
        "    # retrieve probabilities of outcomes\n",
        "    if item_prediction == item[\"answer\"]:\n",
        "      num += 1\n",
        "      correct_probs.append(item_probs.max().item())\n",
        "      incorrect_probs.append(item_probs.min().item())\n",
        "      probs_df.loc[len(probs_df)] = [item[\"InputStoryid\"], item_probs.max().item(), item_probs.min().item()]\n",
        "    else:\n",
        "      correct_probs.append(item_probs.min().item())\n",
        "      incorrect_probs.append(item_probs.max().item())\n",
        "      probs_df.loc[len(probs_df)] = [item[\"InputStoryid\"], item_probs.min().item(), item_probs.max().item()]\n",
        "\n",
        "    # compute ongoing accuracy\n",
        "    den += 1\n",
        "    pbar.set_postfix({'acc': num / den})\n",
        "\n",
        "  return probs_df, num/den"
      ],
      "metadata": {
        "id": "hJ_--zD0yUf3"
      },
      "execution_count": 11,
      "outputs": []
    },
    {
      "cell_type": "code",
      "source": [
        "probs_no_know, acc_no_know = process_dataset(ds)"
      ],
      "metadata": {
        "colab": {
          "base_uri": "https://localhost:8080/"
        },
        "id": "9N1nNOE_2aU0",
        "outputId": "e19465df-876b-49c9-eab6-5f74d3095ca3"
      },
      "execution_count": 12,
      "outputs": [
        {
          "output_type": "stream",
          "name": "stderr",
          "text": [
            "100%|██████████| 1571/1571 [01:14<00:00, 20.96it/s, acc=0.472]\n"
          ]
        }
      ]
    },
    {
      "cell_type": "code",
      "source": [
        "probs_know, acc_know = process_dataset(ds_know)"
      ],
      "metadata": {
        "colab": {
          "base_uri": "https://localhost:8080/"
        },
        "id": "CoUawsYB3iAn",
        "outputId": "b296a293-84f5-40af-aa43-9fd95a173897"
      },
      "execution_count": 13,
      "outputs": [
        {
          "output_type": "stream",
          "name": "stderr",
          "text": [
            "100%|██████████| 1571/1571 [00:57<00:00, 27.13it/s, acc=0.516]\n"
          ]
        }
      ]
    },
    {
      "cell_type": "markdown",
      "source": [
        "## 5. Hypothesis Test"
      ],
      "metadata": {
        "id": "_9lddORD7USg"
      }
    },
    {
      "cell_type": "code",
      "source": [
        "fig, ax = plt.subplots()\n",
        "ax.hist([probs_know[\"correct_prob\"], probs_no_know[\"correct_prob\"]], bins=30)\n",
        "ax.legend([\"w/knowledge\", \"wo/knowledge\"])\n",
        "plt.show()"
      ],
      "metadata": {
        "colab": {
          "base_uri": "https://localhost:8080/",
          "height": 430
        },
        "id": "KP4eIQyT5QqA",
        "outputId": "c559c2b2-f2a0-44f7-ecfc-acbf7fb320aa"
      },
      "execution_count": 14,
      "outputs": [
        {
          "output_type": "display_data",
          "data": {
            "text/plain": [
              "<Figure size 640x480 with 1 Axes>"
            ],
            "image/png": "[encoded data removed]"
          },
          "metadata": {}
        }
      ]
    },
    {
      "cell_type": "code",
      "source": [
        "probs_know[\"correct_prob\"].mean(), probs_know[\"correct_prob\"].std()"
      ],
      "metadata": {
        "colab": {
          "base_uri": "https://localhost:8080/"
        },
        "id": "P5qNShLI57lX",
        "outputId": "dd9829a9-df3b-4336-9e89-839b2ba772a5"
      },
      "execution_count": 16,
      "outputs": [
        {
          "output_type": "execute_result",
          "data": {
            "text/plain": [
              "(0.5034754251045152, 0.026935138549646482)"
            ]
          },
          "metadata": {},
          "execution_count": 16
        }
      ]
    },
    {
      "cell_type": "code",
      "source": [
        "probs_no_know[\"correct_prob\"].mean(), probs_no_know[\"correct_prob\"].std()"
      ],
      "metadata": {
        "colab": {
          "base_uri": "https://localhost:8080/"
        },
        "id": "NtxabJol63OV",
        "outputId": "112eb4e8-a75c-405f-edc1-35e8f93a4eed"
      },
      "execution_count": 17,
      "outputs": [
        {
          "output_type": "execute_result",
          "data": {
            "text/plain": [
              "(0.5007899779752892, 0.015181218894677476)"
            ]
          },
          "metadata": {},
          "execution_count": 17
        }
      ]
    },
    {
      "cell_type": "code",
      "source": [
        "t_stat, p_val = stats.ttest_rel(probs_know[\"correct_prob\"], probs_no_know[\"correct_prob\"])\n",
        "print(\"t stat\", t_stat, \"p value\", p_val)"
      ],
      "metadata": {
        "colab": {
          "base_uri": "https://localhost:8080/"
        },
        "id": "3e5WL4wG68Fj",
        "outputId": "a7987f5a-3952-455c-af4f-c0436f36ab03"
      },
      "execution_count": 18,
      "outputs": [
        {
          "output_type": "stream",
          "name": "stdout",
          "text": [
            "t stat 3.9247544536772514 p value 9.057083212215251e-05\n"
          ]
        }
      ]
    }
  ],
  "metadata": {
    "kernelspec": {
      "display_name": "gkp_env",
      "language": "python",
      "name": "gkp"
    },
    "language_info": {
      "codemirror_mode": {
        "name": "ipython",
        "version": 3
      },
      "file_extension": ".py",
      "mimetype": "text/x-python",
      "name": "python",
      "nbconvert_exporter": "python",
      "pygments_lexer": "ipython3",
      "version": "3.8.18"
    },
    "colab": {
      "provenance": [],
      "gpuType": "T4"
    },
    "accelerator": "GPU"
  },
  "nbformat": 4,
  "nbformat_minor": 0
}