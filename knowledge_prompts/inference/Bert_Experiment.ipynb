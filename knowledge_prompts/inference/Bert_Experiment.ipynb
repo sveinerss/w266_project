{
  "cells": [
    {
      "cell_type": "code",
      "execution_count": 1,
      "metadata": {
        "id": "4JzX4DjHduRb"
      },
      "outputs": [],
      "source": [
        "import json\n",
        "import torch\n",
        "import transformers\n",
        "import matplotlib.pyplot as plt\n",
        "import pandas as pd\n",
        "from tqdm import tqdm\n",
        "import os\n",
        "import random\n",
        "import numpy as np"
      ]
    },
    {
      "cell_type": "code",
      "source": [
        "from transformers import BertTokenizer, BertForSequenceClassification\n",
        "from torch.nn.functional import softmax"
      ],
      "metadata": {
        "id": "UfL_28Aa3f3z"
      },
      "execution_count": 2,
      "outputs": []
    },
    {
      "cell_type": "code",
      "source": [
        "import matplotlib.pyplot as plt"
      ],
      "metadata": {
        "id": "S0VPsjBtyZjH"
      },
      "execution_count": 12,
      "outputs": []
    },
    {
      "cell_type": "code",
      "source": [
        "from scipy import stats"
      ],
      "metadata": {
        "id": "jgNNXfFE8JUy"
      },
      "execution_count": 36,
      "outputs": []
    },
    {
      "cell_type": "markdown",
      "metadata": {
        "id": "-appVfuwduRl"
      },
      "source": [
        "## 1. Inference incorporating knowledge with Bert"
      ]
    },
    {
      "cell_type": "code",
      "source": [
        "tokenizer = BertTokenizer.from_pretrained('bert-base-uncased')\n",
        "model = BertForSequenceClassification.from_pretrained('bert-base-uncased', num_labels=1).cuda()\n",
        "model.eval()  # Ensure the model is in evaluation mode"
      ],
      "metadata": {
        "colab": {
          "base_uri": "https://localhost:8080/"
        },
        "id": "ph6pWwz-4jEv",
        "outputId": "ca8a0a46-92ff-4a98-aeda-10200119299c"
      },
      "execution_count": 4,
      "outputs": [
        {
          "output_type": "stream",
          "name": "stderr",
          "text": [
            "Some weights of BertForSequenceClassification were not initialized from the model checkpoint at bert-base-uncased and are newly initialized: ['classifier.bias', 'classifier.weight']\n",
            "You should probably TRAIN this model on a down-stream task to be able to use it for predictions and inference.\n"
          ]
        },
        {
          "output_type": "execute_result",
          "data": {
            "text/plain": [
              "BertForSequenceClassification(\n",
              "  (bert): BertModel(\n",
              "    (embeddings): BertEmbeddings(\n",
              "      (word_embeddings): Embedding(30522, 768, padding_idx=0)\n",
              "      (position_embeddings): Embedding(512, 768)\n",
              "      (token_type_embeddings): Embedding(2, 768)\n",
              "      (LayerNorm): LayerNorm((768,), eps=1e-12, elementwise_affine=True)\n",
              "      (dropout): Dropout(p=0.1, inplace=False)\n",
              "    )\n",
              "    (encoder): BertEncoder(\n",
              "      (layer): ModuleList(\n",
              "        (0-11): 12 x BertLayer(\n",
              "          (attention): BertAttention(\n",
              "            (self): BertSelfAttention(\n",
              "              (query): Linear(in_features=768, out_features=768, bias=True)\n",
              "              (key): Linear(in_features=768, out_features=768, bias=True)\n",
              "              (value): Linear(in_features=768, out_features=768, bias=True)\n",
              "              (dropout): Dropout(p=0.1, inplace=False)\n",
              "            )\n",
              "            (output): BertSelfOutput(\n",
              "              (dense): Linear(in_features=768, out_features=768, bias=True)\n",
              "              (LayerNorm): LayerNorm((768,), eps=1e-12, elementwise_affine=True)\n",
              "              (dropout): Dropout(p=0.1, inplace=False)\n",
              "            )\n",
              "          )\n",
              "          (intermediate): BertIntermediate(\n",
              "            (dense): Linear(in_features=768, out_features=3072, bias=True)\n",
              "            (intermediate_act_fn): GELUActivation()\n",
              "          )\n",
              "          (output): BertOutput(\n",
              "            (dense): Linear(in_features=3072, out_features=768, bias=True)\n",
              "            (LayerNorm): LayerNorm((768,), eps=1e-12, elementwise_affine=True)\n",
              "            (dropout): Dropout(p=0.1, inplace=False)\n",
              "          )\n",
              "        )\n",
              "      )\n",
              "    )\n",
              "    (pooler): BertPooler(\n",
              "      (dense): Linear(in_features=768, out_features=768, bias=True)\n",
              "      (activation): Tanh()\n",
              "    )\n",
              "  )\n",
              "  (dropout): Dropout(p=0.1, inplace=False)\n",
              "  (classifier): Linear(in_features=768, out_features=1, bias=True)\n",
              ")"
            ]
          },
          "metadata": {},
          "execution_count": 4
        }
      ]
    },
    {
      "cell_type": "code",
      "source": [
        "def score_with_bert(tokenizer, model, context, knowledge, candidates, token_count=False, max_length=512):\n",
        "    scores = []\n",
        "    for cand in candidates:\n",
        "\n",
        "        # Format input text as: [CLS] context [SEP] candidate [SEP]\n",
        "        context = f\"{context} {knowledge}\" if knowledge is not None else context\n",
        "        inputs = tokenizer.encode_plus(context, cand, max_length=max_length, truncation=True, return_tensors='pt', add_special_tokens=True).to(model.device)\n",
        "\n",
        "        if token_count:\n",
        "          # Print the number of tokens for debugging purposes\n",
        "          num_tokens = inputs[\"input_ids\"].size(1)\n",
        "          print(f\"Number of tokens for {cand} : {num_tokens}\")\n",
        "          if num_tokens > max_length:\n",
        "            print(\"Max length exceeded\")\n",
        "\n",
        "        # Forward pass, get logits\n",
        "        with torch.no_grad():\n",
        "            outputs = model(**inputs)\n",
        "            logits = outputs.logits.squeeze().item()  # Assuming binary classification\n",
        "\n",
        "        # Store the logits as scores\n",
        "        scores.append(logits)\n",
        "\n",
        "    # Convert scores to probabilities\n",
        "    probs = softmax(torch.tensor(scores), dim=0)\n",
        "    return probs\n",
        "\n",
        "def predict_with_bert(context, candidates, knowledge, token_count=False):\n",
        "    probs = score_with_bert(tokenizer, model, context, knowledge, candidates, token_count=token_count)\n",
        "    prediction = candidates[probs.argmax().item()]  # Choose the candidate with the highest probability\n",
        "    return prediction, probs"
      ],
      "metadata": {
        "id": "bAsjuw3dCNC-"
      },
      "execution_count": 9,
      "outputs": []
    },
    {
      "cell_type": "code",
      "source": [
        "with open(\"val_set.json\") as f:\n",
        "    ds = json.load(f)\n",
        "\n",
        "with open(\"val_set_knowledge.json\") as f:\n",
        "    ds_know = json.load(f)"
      ],
      "metadata": {
        "id": "_tHbjAhJd8bb"
      },
      "execution_count": 6,
      "outputs": []
    },
    {
      "cell_type": "code",
      "source": [
        "ds[0]"
      ],
      "metadata": {
        "colab": {
          "base_uri": "https://localhost:8080/"
        },
        "id": "H-ziJSe717qc",
        "outputId": "bb3fb0a1-609d-4d26-cbf0-ae61f95d1f78"
      },
      "execution_count": 17,
      "outputs": [
        {
          "output_type": "execute_result",
          "data": {
            "text/plain": [
              "{'InputStoryid': '138d5bfb-05cc-41e3-bf2c-fa85ebad14e2',\n",
              " 'cands': ['He is happy now.', 'He joined a gang.'],\n",
              " 'answer': 'He is happy now.',\n",
              " 'query': \"Rick grew up in a troubled household. He never found good support in family, and turned to gangs. It wasn't long before Rick got shot in a robbery. The incident caused him to turn a new leaf.\"}"
            ]
          },
          "metadata": {},
          "execution_count": 17
        }
      ]
    },
    {
      "cell_type": "code",
      "source": [
        "pbar = tqdm(ds)\n",
        "num, den = 0, 0\n",
        "correct_probs, incorrect_probs = [], []\n",
        "probs_df = pd.DataFrame(columns=[\"ID\", \"correct_prob\", \"incorrect_prob\"])\n",
        "for item in pbar:\n",
        "\n",
        "  # get item information\n",
        "  story, candidates = item[\"query\"], item[\"cands\"]\n",
        "  knowledge = None\n",
        "\n",
        "  # predict\n",
        "  item_prediction, item_probs = predict_with_bert(story, candidates, knowledge)\n",
        "\n",
        "  # retrieve probabilities of outcomes\n",
        "  if item_prediction == item[\"answer\"]:\n",
        "    num += 1\n",
        "    correct_probs.append(item_probs.max().item())\n",
        "    incorrect_probs.append(item_probs.min().item())\n",
        "    probs_df.loc[len(probs_df)] = [item[\"InputStoryid\"], item_probs.max().item(), item_probs.min().item()]\n",
        "  else:\n",
        "    correct_probs.append(item_probs.min().item())\n",
        "    incorrect_probs.append(item_probs.max().item())\n",
        "    probs_df.loc[len(probs_df)] = [item[\"InputStoryid\"], item_probs.min().item(), item_probs.max().item()]\n",
        "\n",
        "  # compute ongoing accuracy\n",
        "  den += 1\n",
        "  pbar.set_postfix({'acc': num / den})"
      ],
      "metadata": {
        "colab": {
          "base_uri": "https://localhost:8080/"
        },
        "id": "lhUWe2EjrRof",
        "outputId": "ed86292f-5569-4d0f-b875-4bb8ccd0ff6d"
      },
      "execution_count": 18,
      "outputs": [
        {
          "output_type": "stream",
          "name": "stderr",
          "text": [
            "100%|██████████| 1571/1571 [01:02<00:00, 24.95it/s, acc=0.414]\n"
          ]
        }
      ]
    },
    {
      "cell_type": "code",
      "source": [
        "probs_df.to_csv(\"noknow.csv\")"
      ],
      "metadata": {
        "id": "ZJlY7Rwg2bjr"
      },
      "execution_count": 19,
      "outputs": []
    },
    {
      "cell_type": "code",
      "source": [
        "fig, ax = plt.subplots()\n",
        "ax.hist(probs_df[\"correct_prob\"], bins=30)\n",
        "plt.show()"
      ],
      "metadata": {
        "colab": {
          "base_uri": "https://localhost:8080/",
          "height": 430
        },
        "id": "-iiHmqSYyXDf",
        "outputId": "cca25358-9166-4094-947d-4f6851d742d0"
      },
      "execution_count": 20,
      "outputs": [
        {
          "output_type": "display_data",
          "data": {
            "text/plain": [
              "<Figure size 640x480 with 1 Axes>"
            ],
            "image/png": "[encoded data removed]"
          },
          "metadata": {}
        }
      ]
    },
    {
      "cell_type": "code",
      "source": [
        "pbar = tqdm(ds_know)\n",
        "num, den = 0, 0\n",
        "correct_probs, incorrect_probs = [], []\n",
        "probs_df = pd.DataFrame(columns=[\"ID\", \"correct_prob\", \"incorrect_prob\"])\n",
        "for item in pbar:\n",
        "\n",
        "  # get item information\n",
        "  story, candidates = item[\"query\"], item[\"cands\"]\n",
        "  knowledge = item[\"knowledge\"]\n",
        "\n",
        "  # predict\n",
        "  item_prediction, item_probs = predict_with_bert(story, candidates, knowledge)\n",
        "\n",
        "  # retrieve probabilities of outcomes\n",
        "  if item_prediction == item[\"answer\"]:\n",
        "    num += 1\n",
        "    correct_probs.append(item_probs.max().item())\n",
        "    incorrect_probs.append(item_probs.min().item())\n",
        "    probs_df.loc[len(probs_df)] = [item[\"InputStoryid\"], item_probs.max().item(), item_probs.min().item()]\n",
        "  else:\n",
        "    correct_probs.append(item_probs.min().item())\n",
        "    incorrect_probs.append(item_probs.max().item())\n",
        "    probs_df.loc[len(probs_df)] = [item[\"InputStoryid\"], item_probs.min().item(), item_probs.max().item()]\n",
        "\n",
        "  # compute ongoing accuracy\n",
        "  den += 1\n",
        "  pbar.set_postfix({'acc': num / den})"
      ],
      "metadata": {
        "colab": {
          "base_uri": "https://localhost:8080/"
        },
        "id": "4igWAlpk3D7p",
        "outputId": "0d208ed9-cb6f-4b82-dc23-ca8889c4971a"
      },
      "execution_count": 21,
      "outputs": [
        {
          "output_type": "stream",
          "name": "stderr",
          "text": [
            "100%|██████████| 1571/1571 [00:53<00:00, 29.56it/s, acc=0.488]\n"
          ]
        }
      ]
    },
    {
      "cell_type": "markdown",
      "source": [
        "## Hypothesis Test"
      ],
      "metadata": {
        "id": "_9lddORD7USg"
      }
    },
    {
      "cell_type": "code",
      "source": [
        "probs_know_df = pd.read_csv(\"know.csv\", index_col=0)\n",
        "probs_nknow_df = pd.read_csv(\"noknow.csv\", index_col=0)"
      ],
      "metadata": {
        "id": "VYkA9Ven5K8O"
      },
      "execution_count": 26,
      "outputs": []
    },
    {
      "cell_type": "code",
      "source": [
        "fig, ax = plt.subplots()\n",
        "ax.hist([probs_know_df[\"correct_prob\"], probs_nknow_df[\"correct_prob\"]], bins=30)\n",
        "ax.legend([\"w/knowledge\", \"wo/knowledge\"])\n",
        "plt.show()"
      ],
      "metadata": {
        "colab": {
          "base_uri": "https://localhost:8080/",
          "height": 430
        },
        "id": "KP4eIQyT5QqA",
        "outputId": "812b2902-10fa-4af8-899a-4df112225d1e"
      },
      "execution_count": 38,
      "outputs": [
        {
          "output_type": "display_data",
          "data": {
            "text/plain": [
              "<Figure size 640x480 with 1 Axes>"
            ],
            "image/png": "[encoded data removed]"
          },
          "metadata": {}
        }
      ]
    },
    {
      "cell_type": "code",
      "source": [
        "probs_know_df[\"correct_prob\"].mean(), probs_know_df[\"correct_prob\"].std()"
      ],
      "metadata": {
        "colab": {
          "base_uri": "https://localhost:8080/"
        },
        "id": "P5qNShLI57lX",
        "outputId": "01da1239-f178-4937-d433-708fde7e713c"
      },
      "execution_count": 33,
      "outputs": [
        {
          "output_type": "execute_result",
          "data": {
            "text/plain": [
              "(0.5007292449967562, 0.021113202364228326)"
            ]
          },
          "metadata": {},
          "execution_count": 33
        }
      ]
    },
    {
      "cell_type": "code",
      "source": [
        "probs_nknow_df[\"correct_prob\"].mean(), probs_nknow_df[\"correct_prob\"].std()"
      ],
      "metadata": {
        "colab": {
          "base_uri": "https://localhost:8080/"
        },
        "id": "NtxabJol63OV",
        "outputId": "bee0e256-15c1-4a3f-f063-7753217fdb12"
      },
      "execution_count": 34,
      "outputs": [
        {
          "output_type": "execute_result",
          "data": {
            "text/plain": [
              "(0.4984140470481693, 0.011494024230665416)"
            ]
          },
          "metadata": {},
          "execution_count": 34
        }
      ]
    },
    {
      "cell_type": "code",
      "source": [
        "t_stat, p_val = stats.ttest_rel(probs_know_df[\"correct_prob\"], probs_nknow_df[\"correct_prob\"])\n",
        "print(\"t stat\", t_stat, \"p value\", p_val)"
      ],
      "metadata": {
        "colab": {
          "base_uri": "https://localhost:8080/"
        },
        "id": "3e5WL4wG68Fj",
        "outputId": "08e497cc-8f67-4929-ea28-b92bc1613c28"
      },
      "execution_count": 37,
      "outputs": [
        {
          "output_type": "stream",
          "name": "stdout",
          "text": [
            "t stat 4.216445414871697 p value 2.623401972224445e-05\n"
          ]
        }
      ]
    },
    {
      "cell_type": "code",
      "source": [],
      "metadata": {
        "id": "AY3FeACf9Bpj"
      },
      "execution_count": null,
      "outputs": []
    }
  ],
  "metadata": {
    "kernelspec": {
      "display_name": "gkp_env",
      "language": "python",
      "name": "gkp"
    },
    "language_info": {
      "codemirror_mode": {
        "name": "ipython",
        "version": 3
      },
      "file_extension": ".py",
      "mimetype": "text/x-python",
      "name": "python",
      "nbconvert_exporter": "python",
      "pygments_lexer": "ipython3",
      "version": "3.8.18"
    },
    "colab": {
      "provenance": [],
      "gpuType": "T4"
    },
    "accelerator": "GPU"
  },
  "nbformat": 4,
  "nbformat_minor": 0
}