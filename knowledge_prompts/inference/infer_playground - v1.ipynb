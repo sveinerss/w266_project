{
 "cells": [
  {
   "cell_type": "code",
   "execution_count": null,
   "metadata": {},
   "outputs": [],
   "source": [
    "import json\n",
    "import torch\n",
    "import transformers\n",
    "import matplotlib.pyplot as plt\n",
    "import pandas as pd\n",
    "from openai import OpenAI\n",
    "from tqdm import tqdm\n",
    "import os"
   ]
  },
  {
   "cell_type": "code",
   "execution_count": 4,
   "metadata": {},
   "outputs": [],
   "source": [
    "# load environment vars\n",
    "from dotenv import load_dotenv\n",
    "\n",
    "load_dotenv()\n",
    "OPENAI_API_KEY = os.getenv(\"API_KEY\")"
   ]
  },
  {
   "cell_type": "markdown",
   "metadata": {},
   "source": [
    "## 1. Read and format dataset"
   ]
  },
  {
   "cell_type": "code",
   "execution_count": 7,
   "metadata": {},
   "outputs": [
    {
     "data": {
      "text/plain": [
       "['cloze_test_test__winter2018-cloze_test_ALL_test - 1.csv',\n",
       " 'cloze_test_val__winter2018-cloze_test_ALL_val - 1 - 1.csv',\n",
       " 'val_set.json',\n",
       " 'val_set_knowledge.json']"
      ]
     },
     "execution_count": 7,
     "metadata": {},
     "output_type": "execute_result"
    }
   ],
   "source": [
    "cloze_dir = \"data/cloze\"\n",
    "cloze_files = os.listdir(cloze_dir)\n",
    "cloze_files"
   ]
  },
  {
   "cell_type": "code",
   "execution_count": 8,
   "metadata": {},
   "outputs": [],
   "source": [
    "test_set = pd.read_csv(f\"{cloze_dir}/{cloze_files[0]}\")\n",
    "val_set = pd.read_csv(f\"{cloze_dir}/{cloze_files[1]}\")"
   ]
  },
  {
   "cell_type": "code",
   "execution_count": 9,
   "metadata": {},
   "outputs": [
    {
     "name": "stdout",
     "output_type": "stream",
     "text": [
      "Validation size :  1571\n",
      "Test size :  1571\n"
     ]
    }
   ],
   "source": [
    "print(\"Validation size : \", val_set.shape[0])\n",
    "print(\"Test size : \", test_set.shape[0])"
   ]
  },
  {
   "cell_type": "code",
   "execution_count": 10,
   "metadata": {},
   "outputs": [],
   "source": [
    "def printSample(df, idx):\n",
    "    for col in df.columns[1:]:\n",
    "        print(col, df.loc[idx, col])"
   ]
  },
  {
   "cell_type": "code",
   "execution_count": 11,
   "metadata": {},
   "outputs": [
    {
     "name": "stdout",
     "output_type": "stream",
     "text": [
      "InputSentence1 Laverne needs to prepare something for her friend's party.\n",
      "InputSentence2 She decides to bake a batch of brownies.\n",
      "InputSentence3 She chooses a recipe and follows it closely.\n",
      "InputSentence4 Laverne tests one of the brownies to make sure it is delicious.\n",
      "RandomFifthSentenceQuiz1 The brownies are so delicious Laverne eats two of them.\n",
      "RandomFifthSentenceQuiz2 Laverne doesn't go to her friend's party.\n",
      "AnswerRightEnding 1\n"
     ]
    }
   ],
   "source": [
    "printSample(val_set, 1)"
   ]
  },
  {
   "cell_type": "markdown",
   "metadata": {},
   "source": [
    "### 1.1 Format samples"
   ]
  },
  {
   "cell_type": "code",
   "execution_count": 8,
   "metadata": {},
   "outputs": [],
   "source": [
    "def formatSet(dataset, save_path):\n",
    "    '''\n",
    "    Format ROC cloze dataset to json and save.\n",
    "    '''\n",
    "    # convert dataframe to list of dictionaries\n",
    "    val_dicts = dataset.T.to_dict()\n",
    "    val_list = [val_dicts[x] for x in val_dicts.keys()]\n",
    "\n",
    "    # process each sample to put in correct format\n",
    "    for idx in range(len(val_list)):\n",
    "        dict_at_idx = val_list[idx]\n",
    "\n",
    "        # add each plausible candidate to list\n",
    "        dict_at_idx[\"cands\"] = [dict_at_idx[\"RandomFifthSentenceQuiz1\"], dict_at_idx[\"RandomFifthSentenceQuiz2\"]]\n",
    "\n",
    "        # store the correct ending to answer variable\n",
    "        dict_at_idx[\"answer\"] = dict_at_idx[\"cands\"][dict_at_idx[\"AnswerRightEnding\"] - 1]\n",
    "\n",
    "        # concatenate all input sentences into a single string\n",
    "        dict_at_idx[\"query\"] = \" \".join([dict_at_idx[f\"InputSentence{x}\"] for x in range(1, 5)])\n",
    "\n",
    "        # remove redundant variables\n",
    "        for x in range(1,5):\n",
    "            del dict_at_idx[f\"InputSentence{x}\"]\n",
    "\n",
    "        del dict_at_idx[\"AnswerRightEnding\"]\n",
    "        del dict_at_idx[\"RandomFifthSentenceQuiz1\"]\n",
    "        del dict_at_idx[\"RandomFifthSentenceQuiz2\"]\n",
    "\n",
    "    \n",
    "    # save\n",
    "    with open(save_path,  \"w\") as output:\n",
    "        json.dump(val_list, output, indent=2)\n",
    "\n",
    "\n",
    "    return val_list\n",
    "\n"
   ]
  },
  {
   "cell_type": "code",
   "execution_count": 10,
   "metadata": {},
   "outputs": [],
   "source": [
    "_ = formatSet(val_set, f\"{cloze_dir}/val_set.json\")\n",
    "#_ = formatSet(test_set, f\"{cloze_dir}/test_set.json\") # test set missing a tag"
   ]
  },
  {
   "cell_type": "markdown",
   "metadata": {},
   "source": [
    "## 2. Knowledge Generation\n",
    "### 2.1 Prepare prompts"
   ]
  },
  {
   "cell_type": "code",
   "execution_count": null,
   "metadata": {},
   "outputs": [],
   "source": [
    "prompt_path = \"knowledge/prompts/cloze_prompt.txt\"\n",
    "input_path = f\"{cloze_dir}/val_set.json\""
   ]
  },
  {
   "cell_type": "code",
   "execution_count": 41,
   "metadata": {},
   "outputs": [],
   "source": [
    "'''\n",
    "# engine = \"davinci\" OBSOLETE\n",
    "engine = \"davinci-002\"\n",
    "max_tokens = 60\n",
    "temperature = 1.0\n",
    "top_p = 1.0\n",
    "n = 1\n",
    "stop='\\n'\n",
    "presence_penalty=frequency_penalty=0.0\n",
    "'''"
   ]
  },
  {
   "cell_type": "code",
   "execution_count": 13,
   "metadata": {},
   "outputs": [
    {
     "data": {
      "text/html": [
       "<div>\n",
       "<style scoped>\n",
       "    .dataframe tbody tr th:only-of-type {\n",
       "        vertical-align: middle;\n",
       "    }\n",
       "\n",
       "    .dataframe tbody tr th {\n",
       "        vertical-align: top;\n",
       "    }\n",
       "\n",
       "    .dataframe thead th {\n",
       "        text-align: right;\n",
       "    }\n",
       "</style>\n",
       "<table border=\"1\" class=\"dataframe\">\n",
       "  <thead>\n",
       "    <tr style=\"text-align: right;\">\n",
       "      <th></th>\n",
       "      <th>InputStoryid</th>\n",
       "      <th>cands</th>\n",
       "      <th>answer</th>\n",
       "      <th>query</th>\n",
       "    </tr>\n",
       "  </thead>\n",
       "  <tbody>\n",
       "    <tr>\n",
       "      <th>0</th>\n",
       "      <td>138d5bfb-05cc-41e3-bf2c-fa85ebad14e2</td>\n",
       "      <td>[He is happy now., He joined a gang.]</td>\n",
       "      <td>He is happy now.</td>\n",
       "      <td>Rick grew up in a troubled household. He never...</td>\n",
       "    </tr>\n",
       "    <tr>\n",
       "      <th>1</th>\n",
       "      <td>bff9f820-9605-4875-b9af-fe6f14d04256</td>\n",
       "      <td>[The brownies are so delicious Laverne eats tw...</td>\n",
       "      <td>The brownies are so delicious Laverne eats two...</td>\n",
       "      <td>Laverne needs to prepare something for her fri...</td>\n",
       "    </tr>\n",
       "    <tr>\n",
       "      <th>2</th>\n",
       "      <td>e8f628d5-9f97-40ed-8611-fc0e774673c4</td>\n",
       "      <td>[Sarah then decided to move to Europe., Sarah ...</td>\n",
       "      <td>Sarah decided that she preferred her home over...</td>\n",
       "      <td>Sarah had been dreaming of visiting Europe for...</td>\n",
       "    </tr>\n",
       "    <tr>\n",
       "      <th>3</th>\n",
       "      <td>f5226bfe-9f26-4377-b05f-3d9568dbdec1</td>\n",
       "      <td>[Gina liked the cookies so much she ate them a...</td>\n",
       "      <td>Gina liked the cookies so much she ate them al...</td>\n",
       "      <td>Gina was worried the cookie dough in the tube ...</td>\n",
       "    </tr>\n",
       "    <tr>\n",
       "      <th>4</th>\n",
       "      <td>69ac9b05-b956-402f-9fff-1f926ef9176b</td>\n",
       "      <td>[I was very proud of my performance., I was ve...</td>\n",
       "      <td>I was very proud of my performance.</td>\n",
       "      <td>It was  my final performance in marching band....</td>\n",
       "    </tr>\n",
       "  </tbody>\n",
       "</table>\n",
       "</div>"
      ],
      "text/plain": [
       "                           InputStoryid  \\\n",
       "0  138d5bfb-05cc-41e3-bf2c-fa85ebad14e2   \n",
       "1  bff9f820-9605-4875-b9af-fe6f14d04256   \n",
       "2  e8f628d5-9f97-40ed-8611-fc0e774673c4   \n",
       "3  f5226bfe-9f26-4377-b05f-3d9568dbdec1   \n",
       "4  69ac9b05-b956-402f-9fff-1f926ef9176b   \n",
       "\n",
       "                                               cands  \\\n",
       "0              [He is happy now., He joined a gang.]   \n",
       "1  [The brownies are so delicious Laverne eats tw...   \n",
       "2  [Sarah then decided to move to Europe., Sarah ...   \n",
       "3  [Gina liked the cookies so much she ate them a...   \n",
       "4  [I was very proud of my performance., I was ve...   \n",
       "\n",
       "                                              answer  \\\n",
       "0                                   He is happy now.   \n",
       "1  The brownies are so delicious Laverne eats two...   \n",
       "2  Sarah decided that she preferred her home over...   \n",
       "3  Gina liked the cookies so much she ate them al...   \n",
       "4                I was very proud of my performance.   \n",
       "\n",
       "                                               query  \n",
       "0  Rick grew up in a troubled household. He never...  \n",
       "1  Laverne needs to prepare something for her fri...  \n",
       "2  Sarah had been dreaming of visiting Europe for...  \n",
       "3  Gina was worried the cookie dough in the tube ...  \n",
       "4  It was  my final performance in marching band....  "
      ]
     },
     "execution_count": 13,
     "metadata": {},
     "output_type": "execute_result"
    }
   ],
   "source": [
    "data_df = pd.read_json(input_path)\n",
    "data_df.head()"
   ]
  },
  {
   "cell_type": "code",
   "execution_count": 70,
   "metadata": {},
   "outputs": [
    {
     "name": "stdout",
     "output_type": "stream",
     "text": [
      "This is the example prompt to generate the contextual knowledge:\n",
      "Generate some knowledge about the concepts in the input. Examples:\n",
      "\n",
      "Input: Sophie discovers a box of old photographs in her grandmother's basement. Fascinated, she spends the afternoon looking through them. Among the photos, she finds several of a young woman she doesn't recognize. Sophie decides to ask her grandmother about the woman.\n",
      "Knowledge: Basements are often used as storage spaces in houses, providing a cool and dry place for items not frequently used.\n",
      "\n",
      "Input: Evan plants a small vegetable garden in his backyard. He carefully selects a variety of seeds: tomatoes, carrots, and lettuce. Every day, he waters them and checks for any signs of growth. After a few weeks, sprouts begin to appear.\n",
      "Knowledge: Tomatoes are botanically classified as fruits because they contain seeds and develop from the flowering part of plants.\n",
      "\n",
      "Input: Liam finds a stray kitten hiding under his car one evening. He gently coaxes it out with some food and water. Realizing it has no collar, he decides to take it home temporarily. The next day, Liam posts found kitten notices around his neighborhood.\n",
      "Knowledge: Cats have been domesticated for nearly 4,000 years, with ancient Egyptians being among the first to tame them.\n",
      "\n",
      "Input: Nina signs up for a pottery class to learn a new hobby. At first, she struggles with the wheel, finding it harder than it looks. With persistence and practice, she starts to improve. By the end of the course, she has made a small, but beautiful, vase.\n",
      "Knowledge: The pottery wheel, a key tool in creating round ceramic pieces, dates back to around 4,500 BCE in the Near East.\n",
      "\n",
      "Input: During a walk in the park, Carla notices a peculiar bird with vibrant plumage. Intrigued, she takes several photos and later searches online to identify it. She discovers it's a rare species thought to be locally extinct. Excited, Carla shares her findings with a local birdwatching group.\n",
      "Knowledge: Birdwatching, or birding, is a hobby that involves observing birds in their natural habitat and is considered one of the fastest-growing hobbies in the world.\n",
      "\n",
      "Input: {question}\n",
      "Knowledge: \n"
     ]
    }
   ],
   "source": [
    "with open(prompt_path) as f:\n",
    "    context_prompt = f.read().strip('\\n')   \n",
    "\n",
    "print(\"This is the example prompt to generate the contextual knowledge:\")\n",
    "print(context_prompt)"
   ]
  },
  {
   "cell_type": "code",
   "execution_count": 84,
   "metadata": {},
   "outputs": [],
   "source": [
    "def prompt_format(query: str, context_prompt: str):\n",
    "    '''\n",
    "    Append queries to a predefined prompt. \n",
    "    Return a list of modified prompts.\n",
    "    '''\n",
    "    new_prompt = context_prompt.replace('{question}', query)\n",
    "    return {'role':'user', 'content': new_prompt}"
   ]
  },
  {
   "cell_type": "markdown",
   "metadata": {},
   "source": [
    "### 2.2 Query GPT model "
   ]
  },
  {
   "cell_type": "code",
   "execution_count": null,
   "metadata": {},
   "outputs": [],
   "source": [
    "# instantiate openAI client \n",
    "client = OpenAI(api_key=OPENAI_API_KEY)\n",
    "\n",
    "# gpt query params\n",
    "num_knowledge=20\n",
    "top_p=0.5\n",
    "temperature=1.0\n",
    "max_tokens=60\n",
    "model=\"gpt-3.5-turbo-instruct\"\n",
    "n = 1\n",
    "stop='\\n'\n",
    "presence_penalty=frequency_penalty=0.0"
   ]
  },
  {
   "cell_type": "code",
   "execution_count": 68,
   "metadata": {},
   "outputs": [],
   "source": [
    "def request(\n",
    "    prompt: str,\n",
    "    model=\"gpt-3.5-turbo\",\n",
    "    max_tokens=60,\n",
    "    temperature=1.0,\n",
    "    top_p=1.0,\n",
    "    n=1,\n",
    "    stop='\\n',\n",
    "    presence_penalty=0.0,\n",
    "    frequency_penalty=0.0,\n",
    "    ):\n",
    "    '''\n",
    "    Queries the gpt model to create relevant, contextual and factual information given the input. \n",
    "    '''\n",
    "    # retry request (handles connection errors, timeouts, and overloaded API)\n",
    "    \n",
    "    while True:\n",
    "        try:\n",
    "            response = client.chat.completions.create(\n",
    "                model=model,\n",
    "                messages=[prompt],\n",
    "                max_tokens=max_tokens,\n",
    "                temperature=temperature,\n",
    "                top_p=top_p,\n",
    "                n=n,\n",
    "                stop=stop,\n",
    "                presence_penalty=presence_penalty,\n",
    "                frequency_penalty=frequency_penalty,\n",
    "            )\n",
    "            break\n",
    "        except Exception as e:\n",
    "            tqdm.write(str(e))\n",
    "            tqdm.write(\"Retrying...\")\n",
    "            import time\n",
    "            time.sleep(60)\n",
    "    \n",
    "    return response.choices[0].message.content"
   ]
  },
  {
   "cell_type": "code",
   "execution_count": 88,
   "metadata": {},
   "outputs": [],
   "source": [
    "output_path = f\"{cloze_dir}/val_set_knowledge.json\""
   ]
  },
  {
   "cell_type": "code",
   "execution_count": 90,
   "metadata": {},
   "outputs": [
    {
     "name": "stderr",
     "output_type": "stream",
     "text": [
      "1571it [22:54,  1.14it/s]\n"
     ]
    }
   ],
   "source": [
    "generated_examples = []\n",
    "\n",
    "# traverse the dataset, creating for each sample a context \n",
    "for _, row in tqdm(data_df.iterrows()):\n",
    "    context_string = prompt_format(query=row['query'], context_prompt=context_prompt)\n",
    "    knowledge = request(context_string)\n",
    "\n",
    "    row['knowledge'] = knowledge\n",
    "    generated_examples.append(row.to_dict())\n",
    "\n",
    "# save to json\n",
    "with open(output_path, 'w') as fo:\n",
    "    json.dump(generated_examples, fo, indent=4)"
   ]
  },
  {
   "cell_type": "markdown",
   "metadata": {},
   "source": [
    "## 3. Inference Example"
   ]
  },
  {
   "cell_type": "markdown",
   "metadata": {},
   "source": [
    "### 3.1 Inference - Single Sample"
   ]
  },
  {
   "cell_type": "code",
   "execution_count": 12,
   "metadata": {},
   "outputs": [
    {
     "data": {
      "text/plain": [
       "{'InputStoryid': '138d5bfb-05cc-41e3-bf2c-fa85ebad14e2',\n",
       " 'cands': ['He is happy now.', 'He joined a gang.'],\n",
       " 'answer': 'He is happy now.',\n",
       " 'query': \"Rick grew up in a troubled household. He never found good support in family, and turned to gangs. It wasn't long before Rick got shot in a robbery. The incident caused him to turn a new leaf.\"}"
      ]
     },
     "execution_count": 12,
     "metadata": {},
     "output_type": "execute_result"
    }
   ],
   "source": [
    "# read in dataset \n",
    "input_path = f\"{cloze_dir}/val_set.json\"\n",
    "\n",
    "with open(input_path) as f:\n",
    "    ds = json.load(f)\n",
    "\n",
    "ds[0]"
   ]
  },
  {
   "cell_type": "code",
   "execution_count": 18,
   "metadata": {},
   "outputs": [],
   "source": [
    "# dummy object to simulate inputs\n",
    "class dummyArgs:\n",
    "\n",
    "    def __init__(self, task, model_type, model_ckpt, input_path, avg_loss, interactive, h=1, v=1, n=None, aggfunc=\"best_prob\"):\n",
    "        self.task = task\n",
    "        self.model_type = model_type\n",
    "        self.model_ckpt = model_ckpt\n",
    "        self.input_path = input_path\n",
    "        self.avg_loss = avg_loss\n",
    "        self.h = h\n",
    "        self.v = v\n",
    "        self.aggfunc = aggfunc\n",
    "        self.interactive = interactive\n",
    "        self.n = n"
   ]
  },
  {
   "cell_type": "code",
   "execution_count": 19,
   "metadata": {},
   "outputs": [
    {
     "name": "stderr",
     "output_type": "stream",
     "text": [
      "You are using the default legacy behaviour of the <class 'transformers.models.t5.tokenization_t5.T5Tokenizer'>. This is expected, and simply means that the `legacy` (previous) behavior will be used so nothing changes for you. If you want to use the new behaviour, set `legacy=False`. This should only be set if you understand what it means, and thoroughly read the reason why this was added as explained in https://github.com/huggingface/transformers/pull/24565\n",
      "Special tokens have been added in the vocabulary, make sure the associated word embeddings are fine-tuned or trained.\n"
     ]
    },
    {
     "data": {
      "text/plain": [
       "T5ForConditionalGeneration(\n",
       "  (shared): Embedding(32128, 768)\n",
       "  (encoder): T5Stack(\n",
       "    (embed_tokens): Embedding(32128, 768)\n",
       "    (block): ModuleList(\n",
       "      (0): T5Block(\n",
       "        (layer): ModuleList(\n",
       "          (0): T5LayerSelfAttention(\n",
       "            (SelfAttention): T5Attention(\n",
       "              (q): Linear(in_features=768, out_features=768, bias=False)\n",
       "              (k): Linear(in_features=768, out_features=768, bias=False)\n",
       "              (v): Linear(in_features=768, out_features=768, bias=False)\n",
       "              (o): Linear(in_features=768, out_features=768, bias=False)\n",
       "              (relative_attention_bias): Embedding(32, 12)\n",
       "            )\n",
       "            (layer_norm): T5LayerNorm()\n",
       "            (dropout): Dropout(p=0.1, inplace=False)\n",
       "          )\n",
       "          (1): T5LayerFF(\n",
       "            (DenseReluDense): T5DenseActDense(\n",
       "              (wi): Linear(in_features=768, out_features=3072, bias=False)\n",
       "              (wo): Linear(in_features=3072, out_features=768, bias=False)\n",
       "              (dropout): Dropout(p=0.1, inplace=False)\n",
       "              (act): ReLU()\n",
       "            )\n",
       "            (layer_norm): T5LayerNorm()\n",
       "            (dropout): Dropout(p=0.1, inplace=False)\n",
       "          )\n",
       "        )\n",
       "      )\n",
       "      (1-11): 11 x T5Block(\n",
       "        (layer): ModuleList(\n",
       "          (0): T5LayerSelfAttention(\n",
       "            (SelfAttention): T5Attention(\n",
       "              (q): Linear(in_features=768, out_features=768, bias=False)\n",
       "              (k): Linear(in_features=768, out_features=768, bias=False)\n",
       "              (v): Linear(in_features=768, out_features=768, bias=False)\n",
       "              (o): Linear(in_features=768, out_features=768, bias=False)\n",
       "            )\n",
       "            (layer_norm): T5LayerNorm()\n",
       "            (dropout): Dropout(p=0.1, inplace=False)\n",
       "          )\n",
       "          (1): T5LayerFF(\n",
       "            (DenseReluDense): T5DenseActDense(\n",
       "              (wi): Linear(in_features=768, out_features=3072, bias=False)\n",
       "              (wo): Linear(in_features=3072, out_features=768, bias=False)\n",
       "              (dropout): Dropout(p=0.1, inplace=False)\n",
       "              (act): ReLU()\n",
       "            )\n",
       "            (layer_norm): T5LayerNorm()\n",
       "            (dropout): Dropout(p=0.1, inplace=False)\n",
       "          )\n",
       "        )\n",
       "      )\n",
       "    )\n",
       "    (final_layer_norm): T5LayerNorm()\n",
       "    (dropout): Dropout(p=0.1, inplace=False)\n",
       "  )\n",
       "  (decoder): T5Stack(\n",
       "    (embed_tokens): Embedding(32128, 768)\n",
       "    (block): ModuleList(\n",
       "      (0): T5Block(\n",
       "        (layer): ModuleList(\n",
       "          (0): T5LayerSelfAttention(\n",
       "            (SelfAttention): T5Attention(\n",
       "              (q): Linear(in_features=768, out_features=768, bias=False)\n",
       "              (k): Linear(in_features=768, out_features=768, bias=False)\n",
       "              (v): Linear(in_features=768, out_features=768, bias=False)\n",
       "              (o): Linear(in_features=768, out_features=768, bias=False)\n",
       "              (relative_attention_bias): Embedding(32, 12)\n",
       "            )\n",
       "            (layer_norm): T5LayerNorm()\n",
       "            (dropout): Dropout(p=0.1, inplace=False)\n",
       "          )\n",
       "          (1): T5LayerCrossAttention(\n",
       "            (EncDecAttention): T5Attention(\n",
       "              (q): Linear(in_features=768, out_features=768, bias=False)\n",
       "              (k): Linear(in_features=768, out_features=768, bias=False)\n",
       "              (v): Linear(in_features=768, out_features=768, bias=False)\n",
       "              (o): Linear(in_features=768, out_features=768, bias=False)\n",
       "            )\n",
       "            (layer_norm): T5LayerNorm()\n",
       "            (dropout): Dropout(p=0.1, inplace=False)\n",
       "          )\n",
       "          (2): T5LayerFF(\n",
       "            (DenseReluDense): T5DenseActDense(\n",
       "              (wi): Linear(in_features=768, out_features=3072, bias=False)\n",
       "              (wo): Linear(in_features=3072, out_features=768, bias=False)\n",
       "              (dropout): Dropout(p=0.1, inplace=False)\n",
       "              (act): ReLU()\n",
       "            )\n",
       "            (layer_norm): T5LayerNorm()\n",
       "            (dropout): Dropout(p=0.1, inplace=False)\n",
       "          )\n",
       "        )\n",
       "      )\n",
       "      (1-11): 11 x T5Block(\n",
       "        (layer): ModuleList(\n",
       "          (0): T5LayerSelfAttention(\n",
       "            (SelfAttention): T5Attention(\n",
       "              (q): Linear(in_features=768, out_features=768, bias=False)\n",
       "              (k): Linear(in_features=768, out_features=768, bias=False)\n",
       "              (v): Linear(in_features=768, out_features=768, bias=False)\n",
       "              (o): Linear(in_features=768, out_features=768, bias=False)\n",
       "            )\n",
       "            (layer_norm): T5LayerNorm()\n",
       "            (dropout): Dropout(p=0.1, inplace=False)\n",
       "          )\n",
       "          (1): T5LayerCrossAttention(\n",
       "            (EncDecAttention): T5Attention(\n",
       "              (q): Linear(in_features=768, out_features=768, bias=False)\n",
       "              (k): Linear(in_features=768, out_features=768, bias=False)\n",
       "              (v): Linear(in_features=768, out_features=768, bias=False)\n",
       "              (o): Linear(in_features=768, out_features=768, bias=False)\n",
       "            )\n",
       "            (layer_norm): T5LayerNorm()\n",
       "            (dropout): Dropout(p=0.1, inplace=False)\n",
       "          )\n",
       "          (2): T5LayerFF(\n",
       "            (DenseReluDense): T5DenseActDense(\n",
       "              (wi): Linear(in_features=768, out_features=3072, bias=False)\n",
       "              (wo): Linear(in_features=3072, out_features=768, bias=False)\n",
       "              (dropout): Dropout(p=0.1, inplace=False)\n",
       "              (act): ReLU()\n",
       "            )\n",
       "            (layer_norm): T5LayerNorm()\n",
       "            (dropout): Dropout(p=0.1, inplace=False)\n",
       "          )\n",
       "        )\n",
       "      )\n",
       "    )\n",
       "    (final_layer_norm): T5LayerNorm()\n",
       "    (dropout): Dropout(p=0.1, inplace=False)\n",
       "  )\n",
       "  (lm_head): Linear(in_features=768, out_features=32128, bias=False)\n",
       ")"
      ]
     },
     "execution_count": 19,
     "metadata": {},
     "output_type": "execute_result"
    }
   ],
   "source": [
    "# instantiate tokenizer and model\n",
    "args = dummyArgs(\"cloze\", \"t5-base\", None, f\"{cloze_dir}/val_set.json\", None, None)\n",
    "tokenizer = transformers.T5Tokenizer.from_pretrained(args.model_type)\n",
    "model = transformers.T5ForConditionalGeneration.from_pretrained(args.model_ckpt if args.model_ckpt is not None else args.model_type)\n",
    "model.cuda()\n",
    "model.eval()"
   ]
  },
  {
   "cell_type": "code",
   "execution_count": 117,
   "metadata": {},
   "outputs": [
    {
     "name": "stdout",
     "output_type": "stream",
     "text": [
      "Query Rick grew up in a troubled household. He never found good support in family, and turned to gangs. It wasn't long before Rick got shot in a robbery. The incident caused him to turn a new leaf.\n",
      "Cands ['He is happy now.', 'He joined a gang.']\n",
      "Knowledges None\n"
     ]
    }
   ],
   "source": [
    "# get single item from dataset\n",
    "item = ds[0]\n",
    "query = item['query'] if 'query' in item else item['question']\n",
    "cands = item['cands']\n",
    "knowledges = None\n",
    "if \"knowledges\" in item:\n",
    "    knowledges = item[\"knowledges\"]\n",
    "print(\"Query\", query)\n",
    "print(\"Cands\", cands)\n",
    "print(\"Knowledges\", knowledges)"
   ]
  },
  {
   "cell_type": "markdown",
   "metadata": {},
   "source": [
    "#### Pass Without knowledge"
   ]
  },
  {
   "cell_type": "code",
   "execution_count": 118,
   "metadata": {},
   "outputs": [],
   "source": [
    "# initiate array to store loss scores and candidate probabilities\n",
    "n = len(knowledges) if knowledges is not None else 0\n",
    "h, v = args.h, args.v\n",
    "scores_, probs_ = [], []"
   ]
  },
  {
   "cell_type": "code",
   "execution_count": 119,
   "metadata": {},
   "outputs": [
    {
     "name": "stdout",
     "output_type": "stream",
     "text": [
      "Rick grew up in a troubled household. He never found good support in family, and turned to gangs. It wasn't long before Rick got shot in a robbery. The incident caused him to turn a new leaf.\n"
     ]
    }
   ],
   "source": [
    "# concatenate query and candiadates \n",
    "source = query\n",
    "\n",
    "targets = [f'<extra_id_0> {cand} <extra_id_1>' for cand in cands]\n",
    "#targets = cands\n",
    "print(source)"
   ]
  },
  {
   "cell_type": "code",
   "execution_count": 120,
   "metadata": {},
   "outputs": [
    {
     "data": {
      "text/plain": [
       "tensor([[11066,     3,  4774,    95,    16,     3,     9,  3169,    26,  5699,\n",
       "             5,   216,   470,   435,   207,   380,    16,   384,     6,    11,\n",
       "          2120,    12,     3,  3810,     7,     5,    94,  2088,    31,    17,\n",
       "           307,   274, 11066,   530,  2538,    16,     3,     9,     3,  5840,\n",
       "          1152,    63,     5,    37,  5415,  2953,   376,    12,   919,     3,\n",
       "             9,   126,  8384,     5,     1]], device='cuda:0')"
      ]
     },
     "execution_count": 120,
     "metadata": {},
     "output_type": "execute_result"
    }
   ],
   "source": [
    "# tokenize the query\n",
    "scores = []\n",
    "input_ids = tokenizer(source, return_tensors='pt').input_ids.cuda()\n",
    "input_ids"
   ]
  },
  {
   "cell_type": "code",
   "execution_count": null,
   "metadata": {},
   "outputs": [],
   "source": [
    "# run to see all how all tokens were tokenized and identified\n",
    "#tokens = tokenizer.convert_ids_to_tokens(input_ids.cpu().data.numpy()[0])\n",
    "#for t in tokens:\n",
    "    #print(t)\n",
    "\n",
    "#print(f\"Number of tokens: {len(tokens)}\")"
   ]
  },
  {
   "cell_type": "code",
   "execution_count": 122,
   "metadata": {},
   "outputs": [
    {
     "name": "stdout",
     "output_type": "stream",
     "text": [
      "tensor([-29.7580, -21.2826])\n",
      "[('He is happy now.', tensor(0.0002)), ('He joined a gang.', tensor(0.9998))]\n"
     ]
    }
   ],
   "source": [
    "# calculate loss and softmax probabilities for each possible answer\n",
    "for i, _ in enumerate(cands):\n",
    "\n",
    "    # get the token for the ith possible output\n",
    "    labels = tokenizer(targets[i], return_tensors='pt').input_ids.cuda()\n",
    "\n",
    "    # calculate loss for the ith candidate\n",
    "    with torch.no_grad():\n",
    "        loss = model(input_ids=input_ids, labels=labels).loss.item() # mean reduction\n",
    "\n",
    "    if not args.avg_loss:\n",
    "        loss *= labels.size(1)\n",
    "\n",
    "    # add loss to the scores array\n",
    "    score = -loss\n",
    "    scores.append(score)\n",
    "\n",
    "scores = torch.tensor(scores)\n",
    "probs = torch.softmax(scores, dim=0)\n",
    "print(scores)\n",
    "print([(cand, prob) for cand, prob in zip(cands,probs)])\n",
    "\n",
    "scores_.append(scores)\n",
    "probs_.append(probs)\n",
    "\n",
    "placeholder_scores_ = scores_\n",
    "placeholder_probs_ = probs_"
   ]
  },
  {
   "cell_type": "markdown",
   "metadata": {},
   "source": [
    "#### Predict without knowledge"
   ]
  },
  {
   "cell_type": "code",
   "execution_count": 123,
   "metadata": {},
   "outputs": [
    {
     "name": "stdout",
     "output_type": "stream",
     "text": [
      "tensor([[-29.7580, -21.2826]])\n",
      "tensor([[2.0849e-04, 9.9979e-01]])\n"
     ]
    }
   ],
   "source": [
    "scores_ = torch.stack(scores_, dim=0)\n",
    "probs_ = torch.stack(probs_, dim=0)\n",
    "\n",
    "print(scores_)\n",
    "print(probs_)"
   ]
  },
  {
   "cell_type": "code",
   "execution_count": 124,
   "metadata": {},
   "outputs": [
    {
     "data": {
      "text/plain": [
       "\"Rick grew up in a troubled household. He never found good support in family, and turned to gangs. It wasn't long before Rick got shot in a robbery. The incident caused him to turn a new leaf.\""
      ]
     },
     "execution_count": 124,
     "metadata": {},
     "output_type": "execute_result"
    }
   ],
   "source": [
    "query"
   ]
  },
  {
   "cell_type": "code",
   "execution_count": 126,
   "metadata": {},
   "outputs": [
    {
     "data": {
      "image/png": "[encoded data removed]",
      "text/plain": [
       "<Figure size 1600x400 with 1 Axes>"
      ]
     },
     "metadata": {},
     "output_type": "display_data"
    }
   ],
   "source": [
    "fig, ax = plt.subplots(figsize=(16,4))\n",
    "ax.bar(cands, probs_.tolist()[0])\n",
    "ax.set_title(\"Probability Distribution - Without knowledge\")\n",
    "plt.show()"
   ]
  },
  {
   "cell_type": "code",
   "execution_count": 127,
   "metadata": {},
   "outputs": [
    {
     "data": {
      "text/plain": [
       "'He joined a gang.'"
      ]
     },
     "execution_count": 127,
     "metadata": {},
     "output_type": "execute_result"
    }
   ],
   "source": [
    "# retrieve prediction (highest probability)\n",
    "p = probs.argmax().item()\n",
    "pred = cands[p]\n",
    "pred"
   ]
  },
  {
   "cell_type": "markdown",
   "metadata": {},
   "source": [
    "### 3.2 Inference - Without Knowledge - Process all samples."
   ]
  },
  {
   "cell_type": "code",
   "execution_count": 26,
   "metadata": {},
   "outputs": [],
   "source": [
    "def score_for_input(args, tokenizer, model, query, cands, knowledge=None):\n",
    "    source, targets = None, None\n",
    "    # process inputs and candidates for model\n",
    "    source = query\n",
    "    if knowledge is not None:\n",
    "        source = f'{knowledge} {source}'\n",
    "    targets = [f'<extra_id_0> {cand} <extra_id_1>' for cand in cands]\n",
    "\n",
    "    # tokenize query text\n",
    "    input_ids = tokenizer(source, return_tensors='pt').input_ids.cuda()\n",
    "\n",
    "    # calculate loss and probability distribution across candidates\n",
    "    scores = []\n",
    "    for i, _ in enumerate(cands):\n",
    "        labels = tokenizer(targets[i], return_tensors='pt').input_ids.cuda()\n",
    "        with torch.no_grad():\n",
    "            loss = model(input_ids=input_ids, labels=labels).loss.item() # mean reduction\n",
    "        if not args.avg_loss:\n",
    "            loss *= labels.size(1)\n",
    "        score = -loss\n",
    "        scores.append(score)\n",
    "        \n",
    "    scores = torch.tensor(scores)\n",
    "    probs = torch.softmax(scores, dim=0)\n",
    "    return scores, probs\n",
    "\n",
    "\n",
    "def score_for_query(args, tokenizer, model, query, knowledges, cands):\n",
    "    n = len(knowledges)\n",
    "    h, v = args.h, args.v\n",
    "    if len(knowledges)!=0:\n",
    "        print(\"Knowledges detected!\")\n",
    "        print(f\"Knowledge detected: {knowledges[0]}\")\n",
    "        if h == -1 and v == -1:\n",
    "            raise Exception('h and v cannot be both -1!')\n",
    "        if h * v > n:\n",
    "            raise Exception('h*v must be no larger than the number of knowledges!')\n",
    "        if h == -1:\n",
    "            h = n // v\n",
    "        if v == -1:\n",
    "            v = n // h\n",
    "\n",
    "    scores_, probs_ = [], []\n",
    "\n",
    "    # a pass w/o knowledge\n",
    "    scores, probs = score_for_input(args, tokenizer, model, query, cands)\n",
    "    scores_.append(scores)\n",
    "    probs_.append(probs)\n",
    "\n",
    "    # with knowledge\n",
    "    if len(knowledges) > 0:\n",
    "        for i in range(0, v * h, h):\n",
    "            knowledge = ' '.join(knowledges[i:i+h])\n",
    "            print(\"Incoming knowledge\", knowledge)\n",
    "            scores, probs = score_for_input(args, tokenizer, model, query, cands, knowledge)\n",
    "            scores_.append(scores)\n",
    "            probs_.append(probs)\n",
    "\n",
    "    return torch.stack(scores_), torch.stack(probs_)"
   ]
  },
  {
   "cell_type": "code",
   "execution_count": 27,
   "metadata": {},
   "outputs": [],
   "source": [
    "def checker(answer, pred):\n",
    "    return 1 if answer == pred else 0\n",
    "\n",
    "def process_item(args, tokenizer, model, item):\n",
    "\n",
    "    # retrieve the query\n",
    "    query = item['query'] if 'query' in item else item['question']\n",
    "\n",
    "    # retrieve the possible options\n",
    "    if 'cands' in item:\n",
    "        cands = item['cands']\n",
    "    else:\n",
    "        raise Exception('Candidates not in sample.')\n",
    "\n",
    "    # retrieve knowledge if available\n",
    "    knowledges = [item['knowledge']] if 'knowledge' in item else []\n",
    "\n",
    "    # calculate loss and probabilities for all candidates\n",
    "    scores_, probs_ = score_for_query(args, tokenizer, model, query, knowledges, cands)\n",
    "    scores, _ = torch.max(scores_, dim=0)\n",
    "    probs, _ = torch.max(probs_, dim=0)\n",
    "\n",
    "    # calculate prediction according to selected criterion\n",
    "    if args.aggfunc == 'best_score':\n",
    "        p = scores.argmax().item()\n",
    "    elif args.aggfunc == 'best_prob':\n",
    "        p = probs.argmax().item()\n",
    "    elif args.aggfunc == 'poe':\n",
    "        probs = torch.prod(probs_, dim=0)\n",
    "        p = probs.argmax().item()\n",
    "    elif args.aggfunc == 'moe':\n",
    "        probs = torch.sum(probs_, dim=0)\n",
    "        p = probs.argmax().item()\n",
    "    pred = cands[p]\n",
    "\n",
    "    # add results to item\n",
    "    item['scores_'] = scores_.tolist()\n",
    "    item['probs_'] = probs_.tolist()\n",
    "    item['scores'] = scores.tolist()\n",
    "    item['probs'] = probs.tolist()\n",
    "    item['pred'] = pred\n",
    "\n",
    "    if 'answer' in item:\n",
    "        answer = item['answer']\n",
    "        ok = checker(answer, pred)\n",
    "        item['ok'] = ok"
   ]
  },
  {
   "cell_type": "code",
   "execution_count": 143,
   "metadata": {},
   "outputs": [
    {
     "name": "stderr",
     "output_type": "stream",
     "text": [
      "100%|██████████████████████████████████████████████████████████████████████████████████████| 1571/1571 [07:28<00:00,  3.50it/s, acc=0.545]\n"
     ]
    }
   ],
   "source": [
    "pbar = tqdm(ds)\n",
    "num, den = 0, 0\n",
    "for item in pbar:\n",
    "    process_item(args, tokenizer, model, item)\n",
    "    if 'ok' in item:\n",
    "        num += item['ok']\n",
    "        den += 1\n",
    "        pbar.set_postfix({'acc': num / den})"
   ]
  },
  {
   "cell_type": "markdown",
   "metadata": {},
   "source": [
    "### 3.3 Inference - With Knowledge - Process all samples."
   ]
  },
  {
   "cell_type": "code",
   "execution_count": 29,
   "metadata": {},
   "outputs": [
    {
     "data": {
      "text/plain": [
       "{'InputStoryid': '138d5bfb-05cc-41e3-bf2c-fa85ebad14e2',\n",
       " 'cands': ['He is happy now.', 'He joined a gang.'],\n",
       " 'answer': 'He is happy now.',\n",
       " 'query': \"Rick grew up in a troubled household. He never found good support in family, and turned to gangs. It wasn't long before Rick got shot in a robbery. The incident caused him to turn a new leaf.\",\n",
       " 'knowledge': \"Growing up in a challenging environment can impact a person's choices and lead them down negative paths such as joining gangs. Traumatic experiences like getting shot can sometimes serve as a turning point for individuals, motivating them to make positive changes in their lives.\"}"
      ]
     },
     "execution_count": 29,
     "metadata": {},
     "output_type": "execute_result"
    }
   ],
   "source": [
    "# read in dataset \n",
    "input_path = f\"{cloze_dir}/val_set_knowledge.json\"\n",
    "\n",
    "with open(input_path) as f:\n",
    "    ds = json.load(f)\n",
    "\n",
    "ds[0]"
   ]
  },
  {
   "cell_type": "code",
   "execution_count": 25,
   "metadata": {},
   "outputs": [
    {
     "name": "stderr",
     "output_type": "stream",
     "text": [
      "100%|██████████████████████████████████████████████████████████████████████████████████████| 1571/1571 [14:47<00:00,  1.77it/s, acc=0.562]\n"
     ]
    }
   ],
   "source": [
    "pbar = tqdm(ds)\n",
    "num, den = 0, 0\n",
    "for item in pbar:\n",
    "    process_item(args, tokenizer, model, item)\n",
    "    if 'ok' in item:\n",
    "        num += item['ok']\n",
    "        den += 1\n",
    "        pbar.set_postfix({'acc': num / den})"
   ]
  }
 ],
 "metadata": {
  "kernelspec": {
   "display_name": "gkp_env",
   "language": "python",
   "name": "gkp"
  },
  "language_info": {
   "codemirror_mode": {
    "name": "ipython",
    "version": 3
   },
   "file_extension": ".py",
   "mimetype": "text/x-python",
   "name": "python",
   "nbconvert_exporter": "python",
   "pygments_lexer": "ipython3",
   "version": "3.8.18"
  }
 },
 "nbformat": 4,
 "nbformat_minor": 2
}
