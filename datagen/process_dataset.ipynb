{
 "cells": [
  {
   "cell_type": "markdown",
   "metadata": {},
   "source": [
    "<b> Description: </b> In this notebook we generate knowledge statements about ROC stories."
   ]
  },
  {
   "cell_type": "markdown",
   "metadata": {},
   "source": [
    "## 1. Import libraries"
   ]
  },
  {
   "cell_type": "code",
   "execution_count": 2,
   "metadata": {},
   "outputs": [],
   "source": [
    "import pandas as pd\n",
    "import os\n",
    "import json\n",
    "import numpy as np\n",
    "from tqdm import tqdm"
   ]
  },
  {
   "cell_type": "code",
   "execution_count": 40,
   "metadata": {},
   "outputs": [],
   "source": [
    "import random"
   ]
  },
  {
   "cell_type": "code",
   "execution_count": 2,
   "metadata": {},
   "outputs": [],
   "source": [
    "from gpt_generator import request"
   ]
  },
  {
   "cell_type": "code",
   "execution_count": 3,
   "metadata": {},
   "outputs": [],
   "source": [
    "from dotenv import load_dotenv\n",
    "from openai import OpenAI"
   ]
  },
  {
   "cell_type": "code",
   "execution_count": null,
   "metadata": {},
   "outputs": [],
   "source": [
    "load_dotenv()\n",
    "OPENAI_API_KEY = os.getenv(\"API_KEY\")"
   ]
  },
  {
   "cell_type": "code",
   "execution_count": null,
   "metadata": {},
   "outputs": [],
   "source": [
    "client = OpenAI(api_key=OPENAI_API_KEY)"
   ]
  },
  {
   "cell_type": "markdown",
   "metadata": {},
   "source": [
    "## 2. Load datasets\n",
    "\n",
    "Load the winter 2017 ROCstories json file with mixed labels as incorrect labels. "
   ]
  },
  {
   "cell_type": "code",
   "execution_count": 12,
   "metadata": {},
   "outputs": [
    {
     "data": {
      "text/html": [
       "<div>\n",
       "<style scoped>\n",
       "    .dataframe tbody tr th:only-of-type {\n",
       "        vertical-align: middle;\n",
       "    }\n",
       "\n",
       "    .dataframe tbody tr th {\n",
       "        vertical-align: top;\n",
       "    }\n",
       "\n",
       "    .dataframe thead th {\n",
       "        text-align: right;\n",
       "    }\n",
       "</style>\n",
       "<table border=\"1\" class=\"dataframe\">\n",
       "  <thead>\n",
       "    <tr style=\"text-align: right;\">\n",
       "      <th></th>\n",
       "      <th>storyid</th>\n",
       "      <th>storytitle</th>\n",
       "      <th>sentence1</th>\n",
       "      <th>sentence2</th>\n",
       "      <th>sentence3</th>\n",
       "      <th>sentence4</th>\n",
       "      <th>ending0</th>\n",
       "      <th>ending1</th>\n",
       "      <th>label</th>\n",
       "      <th>story</th>\n",
       "      <th>choices</th>\n",
       "      <th>story_triple</th>\n",
       "    </tr>\n",
       "  </thead>\n",
       "  <tbody>\n",
       "    <tr>\n",
       "      <th>0</th>\n",
       "      <td>8bbe6d11-1e2e-413c-bf81-eaea05f4f1bd</td>\n",
       "      <td>David Drops the Weight</td>\n",
       "      <td>David noticed he had put on a lot of weight re...</td>\n",
       "      <td>He examined his habits to try and figure out t...</td>\n",
       "      <td>He realized he'd been eating too much fast foo...</td>\n",
       "      <td>He stopped going to burger places and started ...</td>\n",
       "      <td>After a few weeks, he started to feel much bet...</td>\n",
       "      <td>In the end, he passed with flying colours.</td>\n",
       "      <td>0</td>\n",
       "      <td>David noticed he had put on a lot of weight re...</td>\n",
       "      <td>[After a few weeks, he started to feel much be...</td>\n",
       "      <td>[[David, noticed, lot weight], [He, examined, ...</td>\n",
       "    </tr>\n",
       "    <tr>\n",
       "      <th>1</th>\n",
       "      <td>0beabab2-fb49-460e-a6e6-f35a202e3348</td>\n",
       "      <td>Frustration</td>\n",
       "      <td>Tom had a very short temper.</td>\n",
       "      <td>One day a guest made him very angry.</td>\n",
       "      <td>He punched a hole in the wall of his house.</td>\n",
       "      <td>Tom's guest became afraid and left quickly.</td>\n",
       "      <td>Tom sat on his couch filled with regret about ...</td>\n",
       "      <td>Frank is glad he exercises more now.</td>\n",
       "      <td>0</td>\n",
       "      <td>Tom had a very short temper. One day a guest m...</td>\n",
       "      <td>[Tom sat on his couch filled with regret about...</td>\n",
       "      <td>[[Tom, had, temper], [guest, made, ], [He, pun...</td>\n",
       "    </tr>\n",
       "    <tr>\n",
       "      <th>2</th>\n",
       "      <td>87da1a22-df0b-410c-b186-439700b70ba6</td>\n",
       "      <td>Marcus Buys Khakis</td>\n",
       "      <td>Marcus needed clothing for a business casual e...</td>\n",
       "      <td>All of his clothes were either too formal or t...</td>\n",
       "      <td>He decided to buy a pair of khakis.</td>\n",
       "      <td>The pair he bought fit him perfectly.</td>\n",
       "      <td>Marcus was happy to have the right clothes for...</td>\n",
       "      <td>She threw up and felt better.</td>\n",
       "      <td>0</td>\n",
       "      <td>Marcus needed clothing for a business casual e...</td>\n",
       "      <td>[Marcus was happy to have the right clothes fo...</td>\n",
       "      <td>[[Marcus, needed, clothing event], [All, were,...</td>\n",
       "    </tr>\n",
       "    <tr>\n",
       "      <th>3</th>\n",
       "      <td>2d16bcd6-692a-4fc0-8e7c-4a6f81d9efa9</td>\n",
       "      <td>Different Opinions</td>\n",
       "      <td>Bobby thought Bill should buy a trailer and ha...</td>\n",
       "      <td>Bill thought a truck would be better for what ...</td>\n",
       "      <td>Bobby pointed out two vehicles were much more ...</td>\n",
       "      <td>Bill was set in his ways with conventional thi...</td>\n",
       "      <td>He ended up buying the truck he wanted despite...</td>\n",
       "      <td>She was then able to print the documents with ...</td>\n",
       "      <td>0</td>\n",
       "      <td>Bobby thought Bill should buy a trailer and ha...</td>\n",
       "      <td>[He ended up buying the truck he wanted despit...</td>\n",
       "      <td>[[Bobby, thought, trailer it car], [Bill, thou...</td>\n",
       "    </tr>\n",
       "    <tr>\n",
       "      <th>4</th>\n",
       "      <td>c71bb23b-7731-4233-8298-76ba6886cee1</td>\n",
       "      <td>Overcoming shortcomings</td>\n",
       "      <td>John was a pastor with a very bad memory.</td>\n",
       "      <td>He tried to memorize his sermons many days in ...</td>\n",
       "      <td>He decided to learn to sing to overcome his ha...</td>\n",
       "      <td>He then made all his sermons into music and sa...</td>\n",
       "      <td>I drove home disappointed that my night didn't...</td>\n",
       "      <td>His congregation was delighted and so was he.</td>\n",
       "      <td>1</td>\n",
       "      <td>John was a pastor with a very bad memory. He t...</td>\n",
       "      <td>[I drove home disappointed that my night didn'...</td>\n",
       "      <td>[[John, was, memory], [He, tried, sermons adva...</td>\n",
       "    </tr>\n",
       "  </tbody>\n",
       "</table>\n",
       "</div>"
      ],
      "text/plain": [
       "                                storyid               storytitle  \\\n",
       "0  8bbe6d11-1e2e-413c-bf81-eaea05f4f1bd   David Drops the Weight   \n",
       "1  0beabab2-fb49-460e-a6e6-f35a202e3348              Frustration   \n",
       "2  87da1a22-df0b-410c-b186-439700b70ba6       Marcus Buys Khakis   \n",
       "3  2d16bcd6-692a-4fc0-8e7c-4a6f81d9efa9       Different Opinions   \n",
       "4  c71bb23b-7731-4233-8298-76ba6886cee1  Overcoming shortcomings   \n",
       "\n",
       "                                           sentence1  \\\n",
       "0  David noticed he had put on a lot of weight re...   \n",
       "1                       Tom had a very short temper.   \n",
       "2  Marcus needed clothing for a business casual e...   \n",
       "3  Bobby thought Bill should buy a trailer and ha...   \n",
       "4          John was a pastor with a very bad memory.   \n",
       "\n",
       "                                           sentence2  \\\n",
       "0  He examined his habits to try and figure out t...   \n",
       "1               One day a guest made him very angry.   \n",
       "2  All of his clothes were either too formal or t...   \n",
       "3  Bill thought a truck would be better for what ...   \n",
       "4  He tried to memorize his sermons many days in ...   \n",
       "\n",
       "                                           sentence3  \\\n",
       "0  He realized he'd been eating too much fast foo...   \n",
       "1        He punched a hole in the wall of his house.   \n",
       "2                He decided to buy a pair of khakis.   \n",
       "3  Bobby pointed out two vehicles were much more ...   \n",
       "4  He decided to learn to sing to overcome his ha...   \n",
       "\n",
       "                                           sentence4  \\\n",
       "0  He stopped going to burger places and started ...   \n",
       "1        Tom's guest became afraid and left quickly.   \n",
       "2              The pair he bought fit him perfectly.   \n",
       "3  Bill was set in his ways with conventional thi...   \n",
       "4  He then made all his sermons into music and sa...   \n",
       "\n",
       "                                             ending0  \\\n",
       "0  After a few weeks, he started to feel much bet...   \n",
       "1  Tom sat on his couch filled with regret about ...   \n",
       "2  Marcus was happy to have the right clothes for...   \n",
       "3  He ended up buying the truck he wanted despite...   \n",
       "4  I drove home disappointed that my night didn't...   \n",
       "\n",
       "                                             ending1  label  \\\n",
       "0         In the end, he passed with flying colours.      0   \n",
       "1               Frank is glad he exercises more now.      0   \n",
       "2                      She threw up and felt better.      0   \n",
       "3  She was then able to print the documents with ...      0   \n",
       "4      His congregation was delighted and so was he.      1   \n",
       "\n",
       "                                               story  \\\n",
       "0  David noticed he had put on a lot of weight re...   \n",
       "1  Tom had a very short temper. One day a guest m...   \n",
       "2  Marcus needed clothing for a business casual e...   \n",
       "3  Bobby thought Bill should buy a trailer and ha...   \n",
       "4  John was a pastor with a very bad memory. He t...   \n",
       "\n",
       "                                             choices  \\\n",
       "0  [After a few weeks, he started to feel much be...   \n",
       "1  [Tom sat on his couch filled with regret about...   \n",
       "2  [Marcus was happy to have the right clothes fo...   \n",
       "3  [He ended up buying the truck he wanted despit...   \n",
       "4  [I drove home disappointed that my night didn'...   \n",
       "\n",
       "                                        story_triple  \n",
       "0  [[David, noticed, lot weight], [He, examined, ...  \n",
       "1  [[Tom, had, temper], [guest, made, ], [He, pun...  \n",
       "2  [[Marcus, needed, clothing event], [All, were,...  \n",
       "3  [[Bobby, thought, trailer it car], [Bill, thou...  \n",
       "4  [[John, was, memory], [He, tried, sermons adva...  "
      ]
     },
     "execution_count": 12,
     "metadata": {},
     "output_type": "execute_result"
    }
   ],
   "source": [
    "df = pd.read_json(\"../dataset/ROCStories_winter2017_mixed.json\")\n",
    "df.head()"
   ]
  },
  {
   "cell_type": "markdown",
   "metadata": {},
   "source": [
    "Read prompt for knowledge generations."
   ]
  },
  {
   "cell_type": "code",
   "execution_count": null,
   "metadata": {},
   "outputs": [],
   "source": [
    "def saveContents(arr: list, output_path:str):\n",
    "    pd.DataFrame(arr)[[\"storyid\",\"storytitle\",\"sentence1\",\"sentence2\",\"sentence3\",\"sentence4\",\"ending0\",\"ending1\", \"label\", \"story\", \"know\"]].to_csv(output_path)\n",
    "a\n",
    "with open(\"../knowledge_prompts/knowledge/prompts/cloze_prompt.txt\", \"r\") as f:\n",
    "    context_placeholder = f.read()\n",
    "\n",
    "def prompt_placeholder(context_string, new_question):\n",
    "    return {'role':'user', 'content': context_string.replace('{question}', new_question)}"
   ]
  },
  {
   "cell_type": "markdown",
   "metadata": {},
   "source": [
    "Split dataset into 5 batches to accomodate OPENAI's API max rate. "
   ]
  },
  {
   "cell_type": "code",
   "execution_count": null,
   "metadata": {},
   "outputs": [],
   "source": [
    "split_no = 5\n",
    "for split_no, split_df in enumerate(np.array_split(df, split_no), start=1):\n",
    "    split_df.to_json(f\"../dataset/winter_2017_split_{split_no}.json\")"
   ]
  },
  {
   "cell_type": "markdown",
   "metadata": {},
   "source": [
    "Generate knowledege for batches."
   ]
  },
  {
   "cell_type": "code",
   "execution_count": null,
   "metadata": {},
   "outputs": [],
   "source": [
    "curr_df = pd.read_json(\"../dataset/winter_2017_split_1.json\")"
   ]
  },
  {
   "cell_type": "code",
   "execution_count": null,
   "metadata": {},
   "outputs": [
    {
     "name": "stderr",
     "output_type": "stream",
     "text": [
      "100%|██████████| 10533/10533 [1:55:46<00:00,  1.52it/s]  \n"
     ]
    }
   ],
   "source": [
    "generated_examples = []\n",
    "output_path = \"../dataset/split1.csv\"\n",
    "\n",
    "for _, row in tqdm(curr_df.iterrows(), total=curr_df.shape[0]):\n",
    "    try:\n",
    "        prompt_to_pass = prompt_placeholder(context_placeholder, row[\"story\"])\n",
    "\n",
    "        context_knowledge = request(\n",
    "            prompt_to_pass,\n",
    "            client=client)\n",
    "\n",
    "        row['know'] = context_knowledge\n",
    "        generated_examples.append(row.to_dict())\n",
    "        \n",
    "\n",
    "    except KeyboardInterrupt:\n",
    "        print(\"Interrupted! Saving contents...\")\n",
    "        saveContents(generated_examples, output_path)\n",
    "\n",
    "\n",
    "saveContents(generated_examples, output_path)"
   ]
  },
  {
   "cell_type": "code",
   "execution_count": null,
   "metadata": {},
   "outputs": [],
   "source": [
    "curr_df = pd.read_json(\"../dataset/winter_2017_split_2.json\")"
   ]
  },
  {
   "cell_type": "code",
   "execution_count": null,
   "metadata": {},
   "outputs": [
    {
     "name": "stderr",
     "output_type": "stream",
     "text": [
      " 96%|█████████▌| 10094/10533 [22:29:36<1:05:59,  9.02s/it]"
     ]
    },
    {
     "name": "stdout",
     "output_type": "stream",
     "text": [
      "Error code: 429 - {'error': {'message': 'Rate limit reached for gpt-3.5-turbo in organization org-N52bJZsDufSXzNr9a3BMIvBc on requests per day (RPD): Limit 10000, Used 10000, Requested 1. Please try again in 8.64s. Visit https://platform.openai.com/account/rate-limits to learn more.', 'type': 'requests', 'param': None, 'code': 'rate_limit_exceeded'}}\n",
      "Retrying...\n"
     ]
    },
    {
     "name": "stderr",
     "output_type": "stream",
     "text": [
      "100%|██████████| 10533/10533 [23:32:47<00:00,  8.05s/it]  \n"
     ]
    }
   ],
   "source": [
    "generated_examples = []\n",
    "output_path = \"../dataset/split2.csv\"\n",
    "\n",
    "for _, row in tqdm(curr_df.iterrows(), total=curr_df.shape[0]):\n",
    "    try:\n",
    "        prompt_to_pass = prompt_placeholder(context_placeholder, row[\"story\"])\n",
    "\n",
    "        context_knowledge = request(\n",
    "            prompt_to_pass,\n",
    "            client=client)\n",
    "\n",
    "        row['know'] = context_knowledge\n",
    "        generated_examples.append(row.to_dict())\n",
    "        \n",
    "\n",
    "    except KeyboardInterrupt:\n",
    "        print(\"Interrupted! Saving contents...\")\n",
    "        saveContents(generated_examples, output_path)\n",
    "\n",
    "\n",
    "saveContents(generated_examples, output_path)"
   ]
  },
  {
   "cell_type": "code",
   "execution_count": null,
   "metadata": {},
   "outputs": [],
   "source": [
    "curr_df = pd.read_json(\"../dataset/winter_2017_split_3.json\")"
   ]
  },
  {
   "cell_type": "code",
   "execution_count": null,
   "metadata": {},
   "outputs": [
    {
     "name": "stderr",
     "output_type": "stream",
     "text": [
      "100%|██████████| 10533/10533 [25:16:39<00:00,  8.64s/it]  \n"
     ]
    }
   ],
   "source": [
    "generated_examples = []\n",
    "output_path = \"../dataset/split3.csv\"\n",
    "\n",
    "for _, row in tqdm(curr_df.iterrows(), total=curr_df.shape[0]):\n",
    "    try:\n",
    "        prompt_to_pass = prompt_placeholder(context_placeholder, row[\"story\"])\n",
    "\n",
    "        context_knowledge = request(\n",
    "            prompt_to_pass,\n",
    "            client=client)\n",
    "\n",
    "        row['know'] = context_knowledge\n",
    "        generated_examples.append(row.to_dict())\n",
    "        \n",
    "\n",
    "    except KeyboardInterrupt:\n",
    "        print(\"Interrupted! Saving contents...\")\n",
    "        saveContents(generated_examples, output_path)\n",
    "\n",
    "\n",
    "saveContents(generated_examples, output_path)"
   ]
  },
  {
   "cell_type": "code",
   "execution_count": null,
   "metadata": {},
   "outputs": [],
   "source": [
    "curr_df = pd.read_json(\"../dataset/winter_2017_split_4.json\")"
   ]
  },
  {
   "cell_type": "code",
   "execution_count": null,
   "metadata": {},
   "outputs": [
    {
     "name": "stderr",
     "output_type": "stream",
     "text": [
      "100%|██████████| 10533/10533 [25:16:55<00:00,  8.64s/it]  \n"
     ]
    }
   ],
   "source": [
    "generated_examples = []\n",
    "output_path = \"../dataset/split4.csv\"\n",
    "\n",
    "for _, row in tqdm(curr_df.iterrows(), total=curr_df.shape[0]):\n",
    "    try:\n",
    "        prompt_to_pass = prompt_placeholder(context_placeholder, row[\"story\"])\n",
    "\n",
    "        context_knowledge = request(\n",
    "            prompt_to_pass,\n",
    "            client=client)\n",
    "\n",
    "        row['know'] = context_knowledge\n",
    "        generated_examples.append(row.to_dict())\n",
    "        \n",
    "\n",
    "    except KeyboardInterrupt:\n",
    "        print(\"Interrupted! Saving contents...\")\n",
    "        saveContents(generated_examples, output_path)\n",
    "\n",
    "\n",
    "saveContents(generated_examples, output_path)"
   ]
  },
  {
   "cell_type": "code",
   "execution_count": null,
   "metadata": {},
   "outputs": [],
   "source": [
    "curr_df = pd.read_json(\"../dataset/winter_2017_split_5.json\")"
   ]
  },
  {
   "cell_type": "code",
   "execution_count": null,
   "metadata": {},
   "outputs": [
    {
     "name": "stderr",
     "output_type": "stream",
     "text": [
      "  4%|▎         | 394/10533 [07:45<3:02:38,  1.08s/it]"
     ]
    },
    {
     "name": "stdout",
     "output_type": "stream",
     "text": [
      "Error code: 503 - {'error': {'code': 503, 'message': 'Service Unavailable.', 'param': None, 'type': 'cf_service_unavailable'}}\n",
      "Retrying...\n"
     ]
    },
    {
     "name": "stderr",
     "output_type": "stream",
     "text": [
      "  4%|▍         | 411/10533 [09:03<2:35:04,  1.09it/s] "
     ]
    },
    {
     "name": "stdout",
     "output_type": "stream",
     "text": [
      "Error code: 503 - {'error': {'code': 503, 'message': 'Service Unavailable.', 'param': None, 'type': 'cf_service_unavailable'}}\n",
      "Retrying...\n"
     ]
    },
    {
     "name": "stderr",
     "output_type": "stream",
     "text": [
      "  9%|▉         | 974/10533 [20:18<2:58:20,  1.12s/it] "
     ]
    },
    {
     "name": "stdout",
     "output_type": "stream",
     "text": [
      "Error code: 503 - {'error': {'code': 503, 'message': 'Service Unavailable.', 'param': None, 'type': 'cf_service_unavailable'}}\n",
      "Retrying...\n"
     ]
    },
    {
     "name": "stderr",
     "output_type": "stream",
     "text": [
      " 10%|▉         | 1030/10533 [22:29<2:25:01,  1.09it/s]"
     ]
    },
    {
     "name": "stdout",
     "output_type": "stream",
     "text": [
      "Error code: 503 - {'error': {'code': 503, 'message': 'Service Unavailable.', 'param': None, 'type': 'cf_service_unavailable'}}\n",
      "Retrying...\n"
     ]
    },
    {
     "name": "stderr",
     "output_type": "stream",
     "text": [
      "100%|██████████| 10533/10533 [17:43:20<00:00,  6.06s/it]  \n"
     ]
    }
   ],
   "source": [
    "generated_examples = []\n",
    "output_path = \"../dataset/split5.csv\"\n",
    "\n",
    "for _, row in tqdm(curr_df.iterrows(), total=curr_df.shape[0]):\n",
    "    try:\n",
    "        prompt_to_pass = prompt_placeholder(context_placeholder, row[\"story\"])\n",
    "\n",
    "        context_knowledge = request(\n",
    "            prompt_to_pass,\n",
    "            client=client)\n",
    "\n",
    "        row['know'] = context_knowledge\n",
    "        generated_examples.append(row.to_dict())\n",
    "        \n",
    "\n",
    "    except KeyboardInterrupt:\n",
    "        print(\"Interrupted! Saving contents...\")\n",
    "        saveContents(generated_examples, output_path)\n",
    "\n",
    "\n",
    "saveContents(generated_examples, output_path)"
   ]
  },
  {
   "cell_type": "markdown",
   "metadata": {},
   "source": [
    "Concatenate all batches into one dataset and save."
   ]
  },
  {
   "cell_type": "code",
   "execution_count": null,
   "metadata": {},
   "outputs": [
    {
     "data": {
      "text/plain": [
       "(52665, 11)"
      ]
     },
     "metadata": {},
     "output_type": "display_data"
    }
   ],
   "source": [
    "out_df = pd.DataFrame()\n",
    "for num in [\"1\", \"2\", \"3\", \"4\", \"5\"]:\n",
    "    temp = pd.read_csv(f\"../dataset/split{num}.csv\", index_col=0)\n",
    "    out_df = pd.concat([out_df, temp], ignore_index=True)\n",
    "\n",
    "out_df.shape"
   ]
  },
  {
   "cell_type": "code",
   "execution_count": null,
   "metadata": {},
   "outputs": [],
   "source": [
    "out_df.to_json(\"../dataset/all_know.json\")"
   ]
  },
  {
   "cell_type": "code",
   "execution_count": null,
   "metadata": {},
   "outputs": [],
   "source": [
    "out_df[out_df.columns[:-1]].to_json(\"../dataset/all.json\")"
   ]
  },
  {
   "cell_type": "markdown",
   "metadata": {},
   "source": [
    "## 3. Combine and Export"
   ]
  },
  {
   "cell_type": "markdown",
   "metadata": {},
   "source": [
    "Load 2017 dataset with generated gpt-3.5 endings and format it."
   ]
  },
  {
   "cell_type": "code",
   "execution_count": 49,
   "metadata": {},
   "outputs": [
    {
     "name": "stdout",
     "output_type": "stream",
     "text": [
      "Data shape: (52664, 9)\n"
     ]
    },
    {
     "data": {
      "text/html": [
       "<div>\n",
       "<style scoped>\n",
       "    .dataframe tbody tr th:only-of-type {\n",
       "        vertical-align: middle;\n",
       "    }\n",
       "\n",
       "    .dataframe tbody tr th {\n",
       "        vertical-align: top;\n",
       "    }\n",
       "\n",
       "    .dataframe thead th {\n",
       "        text-align: right;\n",
       "    }\n",
       "</style>\n",
       "<table border=\"1\" class=\"dataframe\">\n",
       "  <thead>\n",
       "    <tr style=\"text-align: right;\">\n",
       "      <th></th>\n",
       "      <th>storyid</th>\n",
       "      <th>storytitle</th>\n",
       "      <th>sentence1</th>\n",
       "      <th>sentence2</th>\n",
       "      <th>sentence3</th>\n",
       "      <th>sentence4</th>\n",
       "      <th>answer</th>\n",
       "      <th>cands</th>\n",
       "      <th>story</th>\n",
       "    </tr>\n",
       "  </thead>\n",
       "  <tbody>\n",
       "    <tr>\n",
       "      <th>9706</th>\n",
       "      <td>ca794399-5823-4b5a-b5d7-5b7357cab868</td>\n",
       "      <td>No longer skinny</td>\n",
       "      <td>Allan was a very skinny man.</td>\n",
       "      <td>He hated the way he looked.</td>\n",
       "      <td>One day he decided that he was going to put on...</td>\n",
       "      <td>He began to drink protein shakes and eat 10 ti...</td>\n",
       "      <td>Allan is no longer very skinny.</td>\n",
       "      <td>[Allan is no longer very skinny., Allan became...</td>\n",
       "      <td>Allan was a very skinny man. He hated the way ...</td>\n",
       "    </tr>\n",
       "    <tr>\n",
       "      <th>27707</th>\n",
       "      <td>cd329f74-eb31-4cd6-961b-b584f05e3534</td>\n",
       "      <td>Veterinarian visit</td>\n",
       "      <td>Dillon needed his cat to get its annual vaccin...</td>\n",
       "      <td>He called the veterinarian office and made an ...</td>\n",
       "      <td>He used some cat treats to lure his cat into t...</td>\n",
       "      <td>Dillon walked with the cat carrier to the vete...</td>\n",
       "      <td>The veterinarian gave the cat the required vac...</td>\n",
       "      <td>[The veterinarian gave the cat the required va...</td>\n",
       "      <td>Dillon needed his cat to get its annual vaccin...</td>\n",
       "    </tr>\n",
       "  </tbody>\n",
       "</table>\n",
       "</div>"
      ],
      "text/plain": [
       "                                    storyid          storytitle  \\\n",
       "9706   ca794399-5823-4b5a-b5d7-5b7357cab868    No longer skinny   \n",
       "27707  cd329f74-eb31-4cd6-961b-b584f05e3534  Veterinarian visit   \n",
       "\n",
       "                                               sentence1  \\\n",
       "9706                        Allan was a very skinny man.   \n",
       "27707  Dillon needed his cat to get its annual vaccin...   \n",
       "\n",
       "                                               sentence2  \\\n",
       "9706                         He hated the way he looked.   \n",
       "27707  He called the veterinarian office and made an ...   \n",
       "\n",
       "                                               sentence3  \\\n",
       "9706   One day he decided that he was going to put on...   \n",
       "27707  He used some cat treats to lure his cat into t...   \n",
       "\n",
       "                                               sentence4  \\\n",
       "9706   He began to drink protein shakes and eat 10 ti...   \n",
       "27707  Dillon walked with the cat carrier to the vete...   \n",
       "\n",
       "                                                  answer  \\\n",
       "9706                     Allan is no longer very skinny.   \n",
       "27707  The veterinarian gave the cat the required vac...   \n",
       "\n",
       "                                                   cands  \\\n",
       "9706   [Allan is no longer very skinny., Allan became...   \n",
       "27707  [The veterinarian gave the cat the required va...   \n",
       "\n",
       "                                                   story  \n",
       "9706   Allan was a very skinny man. He hated the way ...  \n",
       "27707  Dillon needed his cat to get its annual vaccin...  "
      ]
     },
     "execution_count": 49,
     "metadata": {},
     "output_type": "execute_result"
    }
   ],
   "source": [
    "labeled_df = pd.DataFrame()\n",
    "\n",
    "def shuffle_list(x):\n",
    "    random.shuffle(x)\n",
    "    return x\n",
    "\n",
    "for idx in range(1,6):\n",
    "    ds_idx = pd.read_csv(f\"../dataset/winter_2017_labeled_p{idx}.csv\", index_col=0)\n",
    "    ds_idx[\"cands\"] = ds_idx.apply(lambda x: [x[\"correctE\"], x[\"incorrectE\"]], axis=1)\n",
    "    ds_idx[\"cands\"] = ds_idx.apply(lambda x: shuffle_list(x[\"cands\"]), axis=1)\n",
    "    ds_idx[\"story\"] = ds_idx.apply(lambda x: \" \".join([x[f\"sentence{y}\"] for y in range(1, 5)]), axis=1)\n",
    "    ds_idx.rename(columns={\"correctE\":\"answer\"}, inplace=True)\n",
    "    del ds_idx[\"incorrectE\"]\n",
    " \n",
    "    labeled_df = pd.concat([labeled_df, ds_idx], ignore_index=True)\n",
    "\n",
    "print(\"Data shape:\", labeled_df.shape)\n",
    "labeled_df.sample(2)"
   ]
  },
  {
   "cell_type": "markdown",
   "metadata": {},
   "source": [
    "Add the knowledge statements to the dataset."
   ]
  },
  {
   "cell_type": "code",
   "execution_count": 52,
   "metadata": {},
   "outputs": [
    {
     "data": {
      "text/plain": [
       "(52665, 11)"
      ]
     },
     "execution_count": 52,
     "metadata": {},
     "output_type": "execute_result"
    }
   ],
   "source": [
    "know_df = pd.DataFrame()\n",
    "for idx in range(1,6):\n",
    "    ds_idx = pd.read_csv(f\"../dataset/split{idx}.csv\", index_col=0)\n",
    "    know_df = pd.concat([know_df, ds_idx], ignore_index=True)\n",
    "know_df.shape"
   ]
  },
  {
   "cell_type": "code",
   "execution_count": 58,
   "metadata": {},
   "outputs": [
    {
     "data": {
      "text/html": [
       "<div>\n",
       "<style scoped>\n",
       "    .dataframe tbody tr th:only-of-type {\n",
       "        vertical-align: middle;\n",
       "    }\n",
       "\n",
       "    .dataframe tbody tr th {\n",
       "        vertical-align: top;\n",
       "    }\n",
       "\n",
       "    .dataframe thead th {\n",
       "        text-align: right;\n",
       "    }\n",
       "</style>\n",
       "<table border=\"1\" class=\"dataframe\">\n",
       "  <thead>\n",
       "    <tr style=\"text-align: right;\">\n",
       "      <th></th>\n",
       "      <th>storyid</th>\n",
       "      <th>storytitle</th>\n",
       "      <th>sentence1</th>\n",
       "      <th>sentence2</th>\n",
       "      <th>sentence3</th>\n",
       "      <th>sentence4</th>\n",
       "      <th>answer</th>\n",
       "      <th>cands</th>\n",
       "      <th>story</th>\n",
       "      <th>know</th>\n",
       "    </tr>\n",
       "  </thead>\n",
       "  <tbody>\n",
       "    <tr>\n",
       "      <th>10474</th>\n",
       "      <td>727e8ca5-6831-4912-933c-f2ed59ceda0e</td>\n",
       "      <td>Nina gets a new Blender</td>\n",
       "      <td>Nina decided that she wanted a smoothie.</td>\n",
       "      <td>She put all of the ingredients into her blender.</td>\n",
       "      <td>She turned the blender on but nothing happened.</td>\n",
       "      <td>Nina decided she needed a new blender.</td>\n",
       "      <td>She went to the store and bought a new one.</td>\n",
       "      <td>[She went to the store and bought a new one., ...</td>\n",
       "      <td>Nina decided that she wanted a smoothie. She p...</td>\n",
       "      <td>Blenders are kitchen appliances used to mix, p...</td>\n",
       "    </tr>\n",
       "    <tr>\n",
       "      <th>34383</th>\n",
       "      <td>0e250fc6-8c79-4f50-93b4-2efc4dc946c4</td>\n",
       "      <td>Olympics</td>\n",
       "      <td>My mom wanted to watch the Olympics with me re...</td>\n",
       "      <td>She told me what channel they were on and I sw...</td>\n",
       "      <td>During the Olympics we cheered for our country!</td>\n",
       "      <td>We both really enjoyed it so we watched it the...</td>\n",
       "      <td>We ended up watching the Olympics every day th...</td>\n",
       "      <td>[We ended up watching the Olympics every day t...</td>\n",
       "      <td>My mom wanted to watch the Olympics with me re...</td>\n",
       "      <td>The Olympics is a multi-sport event held every...</td>\n",
       "    </tr>\n",
       "  </tbody>\n",
       "</table>\n",
       "</div>"
      ],
      "text/plain": [
       "                                    storyid               storytitle  \\\n",
       "10474  727e8ca5-6831-4912-933c-f2ed59ceda0e  Nina gets a new Blender   \n",
       "34383  0e250fc6-8c79-4f50-93b4-2efc4dc946c4                 Olympics   \n",
       "\n",
       "                                               sentence1  \\\n",
       "10474           Nina decided that she wanted a smoothie.   \n",
       "34383  My mom wanted to watch the Olympics with me re...   \n",
       "\n",
       "                                               sentence2  \\\n",
       "10474   She put all of the ingredients into her blender.   \n",
       "34383  She told me what channel they were on and I sw...   \n",
       "\n",
       "                                             sentence3  \\\n",
       "10474  She turned the blender on but nothing happened.   \n",
       "34383  During the Olympics we cheered for our country!   \n",
       "\n",
       "                                               sentence4  \\\n",
       "10474             Nina decided she needed a new blender.   \n",
       "34383  We both really enjoyed it so we watched it the...   \n",
       "\n",
       "                                                  answer  \\\n",
       "10474        She went to the store and bought a new one.   \n",
       "34383  We ended up watching the Olympics every day th...   \n",
       "\n",
       "                                                   cands  \\\n",
       "10474  [She went to the store and bought a new one., ...   \n",
       "34383  [We ended up watching the Olympics every day t...   \n",
       "\n",
       "                                                   story  \\\n",
       "10474  Nina decided that she wanted a smoothie. She p...   \n",
       "34383  My mom wanted to watch the Olympics with me re...   \n",
       "\n",
       "                                                    know  \n",
       "10474  Blenders are kitchen appliances used to mix, p...  \n",
       "34383  The Olympics is a multi-sport event held every...  "
      ]
     },
     "execution_count": 58,
     "metadata": {},
     "output_type": "execute_result"
    }
   ],
   "source": [
    "joined_df = pd.merge(labeled_df, know_df[[\"storyid\", \"know\"]], on=\"storyid\", how=\"inner\")\n",
    "joined_df.sample(2)"
   ]
  },
  {
   "cell_type": "code",
   "execution_count": 59,
   "metadata": {},
   "outputs": [
    {
     "data": {
      "text/plain": [
       "(52664, 10)"
      ]
     },
     "execution_count": 59,
     "metadata": {},
     "output_type": "execute_result"
    }
   ],
   "source": [
    "joined_df.shape"
   ]
  },
  {
   "cell_type": "code",
   "execution_count": 60,
   "metadata": {},
   "outputs": [],
   "source": [
    "joined_df.to_json(\"../dataset/2017_gpt_data.json\")"
   ]
  },
  {
   "cell_type": "code",
   "execution_count": null,
   "metadata": {},
   "outputs": [],
   "source": []
  },
  {
   "cell_type": "code",
   "execution_count": null,
   "metadata": {},
   "outputs": [],
   "source": []
  }
 ],
 "metadata": {
  "kernelspec": {
   "display_name": "gkp",
   "language": "python",
   "name": "gkp"
  },
  "language_info": {
   "codemirror_mode": {
    "name": "ipython",
    "version": 3
   },
   "file_extension": ".py",
   "mimetype": "text/x-python",
   "name": "python",
   "nbconvert_exporter": "python",
   "pygments_lexer": "ipython3",
   "version": "3.8.18"
  }
 },
 "nbformat": 4,
 "nbformat_minor": 2
}
